{
 "cells": [
  {
   "cell_type": "code",
   "execution_count": 1,
   "metadata": {},
   "outputs": [],
   "source": [
    "# General imports\n",
    "import os\n",
    "import sys\n",
    "import json\n",
    "import joblib\n",
    "import numpy as np\n",
    "\n",
    "# MLServer folder path\n",
    "thisdir = os.getcwd()\n",
    "mlserverdir = os.path.join(thisdir, 'mlserver-model')\n",
    "sys.path.append(mlserverdir)\n",
    "\n",
    "# Import PixelRing2NMF and NMF2D\n",
    "from pixelring2nmf import PixelRing2NMF\n",
    "from nmf2d import NMF2D"
   ]
  },
  {
   "cell_type": "markdown",
   "metadata": {},
   "source": [
    "## Load model"
   ]
  },
  {
   "cell_type": "code",
   "execution_count": 2,
   "metadata": {},
   "outputs": [
    {
     "name": "stdout",
     "output_type": "stream",
     "text": [
      "Loaded NMF2D model: /eos/user/a/alaperto/SWAN_projects/NMFolder/models/model_7_PXRing_2_period_3_type_1.pkl\n",
      "Ring 2 Model X-Y Shape: [136, 48]\n"
     ]
    }
   ],
   "source": [
    "# Model path\n",
    "nmf_file = '../Development/models/model_7_PXRing_2_period_3_type_1.pkl'\n",
    "\n",
    "# Load model & print shape\n",
    "nmf_model = joblib.load(nmf_file)\n",
    "print(f\"Loaded NMF2D model: {nmf_file}\")\n",
    "print(f\"Ring 2 Model X-Y Shape: {nmf_model.xshape}\")"
   ]
  },
  {
   "cell_type": "markdown",
   "metadata": {},
   "source": [
    "## Save the model"
   ]
  },
  {
   "cell_type": "code",
   "execution_count": 3,
   "metadata": {},
   "outputs": [
    {
     "name": "stdout",
     "output_type": "stream",
     "text": [
      "PixelRing2NMF saved in joblib.\n"
     ]
    }
   ],
   "source": [
    "# Create model\n",
    "pixel_model = PixelRing2NMF({'Ring2': nmf_model})\n",
    "\n",
    "# Save in joblib for MLServer\n",
    "joblib.dump(pixel_model, os.path.join(mlserverdir, 'pixelring2nmf.joblib'))\n",
    "print(\"PixelRing2NMF saved in joblib.\")"
   ]
  }
 ],
 "metadata": {
  "@webio": {
   "lastCommId": null,
   "lastKernelId": null
  },
  "kernelspec": {
   "display_name": "Python 3",
   "language": "python",
   "name": "python3"
  },
  "language_info": {
   "codemirror_mode": {
    "name": "ipython",
    "version": 3
   },
   "file_extension": ".py",
   "mimetype": "text/x-python",
   "name": "python",
   "nbconvert_exporter": "python",
   "pygments_lexer": "ipython3",
   "version": "3.12.11"
  }
 },
 "nbformat": 4,
 "nbformat_minor": 2
}
