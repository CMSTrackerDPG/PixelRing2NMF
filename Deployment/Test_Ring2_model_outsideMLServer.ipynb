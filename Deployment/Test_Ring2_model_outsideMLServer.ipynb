{
 "cells": [
  {
   "cell_type": "code",
   "execution_count": 1,
   "metadata": {},
   "outputs": [],
   "source": [
    "# General imports\n",
    "import os\n",
    "import sys\n",
    "import json\n",
    "import joblib\n",
    "import numpy as np\n",
    "\n",
    "# MLServer folder path\n",
    "thisdir = os.getcwd()\n",
    "mlserverdir = os.path.join(thisdir, 'mlserver-model')\n",
    "sys.path.append(mlserverdir)\n",
    "\n",
    "# Import PixelRing2NMF and NMF2D\n",
    "from pixelring2nmf import PixelRing2NMF\n",
    "from nmf2d import NMF2D"
   ]
  },
  {
   "cell_type": "markdown",
   "metadata": {},
   "source": [
    "## Load model"
   ]
  },
  {
   "cell_type": "code",
   "execution_count": 2,
   "metadata": {},
   "outputs": [
    {
     "name": "stdout",
     "output_type": "stream",
     "text": [
      "Loaded NMF2D model: /eos/user/a/alaperto/SWAN_projects/NMFolder/models/model_7_PXRing_2_period_3_type_1.pkl\n",
      "Ring 2 Model X-Y Shape: [136, 48]\n"
     ]
    },
    {
     "name": "stderr",
     "output_type": "stream",
     "text": [
      "/cvmfs/sft.cern.ch/lcg/views/LCG_108_swan/x86_64-el9-gcc13-opt/lib/python3.12/site-packages/sklearn/base.py:376: InconsistentVersionWarning: Trying to unpickle estimator MiniBatchNMF from version 1.5.1 when using version 1.5.2. This might lead to breaking code or invalid results. Use at your own risk. For more info please refer to:\n",
      "https://scikit-learn.org/stable/model_persistence.html#security-maintainability-limitations\n",
      "  warnings.warn(\n"
     ]
    }
   ],
   "source": [
    "# Model path\n",
    "nmf_file = '/eos/user/a/alaperto/SWAN_projects/NMFolder/models/model_7_PXRing_2_period_3_type_1.pkl'\n",
    "\n",
    "# Load model & print shape\n",
    "nmf_model = joblib.load(nmf_file)\n",
    "print(f\"Loaded NMF2D model: {nmf_file}\")\n",
    "print(f\"Ring 2 Model X-Y Shape: {nmf_model.xshape}\")"
   ]
  },
  {
   "cell_type": "markdown",
   "metadata": {},
   "source": [
    "## Import data"
   ]
  },
  {
   "cell_type": "code",
   "execution_count": 3,
   "metadata": {},
   "outputs": [],
   "source": [
    "import pickle\n",
    "\n",
    "# Open pickle file (750 LS, 1 anomalous)\n",
    "with open(\"/eos/user/a/alaperto/TkDQM/Devel/model_to_DIALS/dism-examples/src/sklearn_nmf/test_data.pkl\", \"rb\") as f:\n",
    "    dummy_input = pickle.load(f)\n",
    "\n",
    "# DCS flags from OMS\n",
    "oms_data = {\n",
    "    'oms__run_number': np.array([386661]),\n",
    "    'oms__lumisection_number': np.array([103]),\n",
    "    'oms__fpix_ready': np.array([True]),\n",
    "    'oms__beams_stable': np.array([True]),\n",
    "    'oms__tob_ready': np.array([True]),\n",
    "    'oms__pileup': np.array([63.55848067]),\n",
    "    'oms__tecp_ready': np.array([True]),\n",
    "    'oms__bpix_ready': np.array([True]),\n",
    "    'oms__tecm_ready': np.array([True]),\n",
    "    'oms__cms_active': np.array([True]),\n",
    "    'oms__tibtid_ready': np.array([True])\n",
    "}\n",
    "\n",
    "#Multiply dummy OMS data for the number of LS\n",
    "nLS = 750\n",
    "oms_data_multi = {key: np.full(nLS, val.item()) if isinstance(val, np.ndarray) else np.full(nLS, val)\n",
    "                  for key, val in oms_data.items()}\n",
    "\n",
    "# Merge real data and OMS data\n",
    "dummy_input.update(oms_data_multi)"
   ]
  },
  {
   "cell_type": "markdown",
   "metadata": {},
   "source": [
    "## Execute (and save) the model"
   ]
  },
  {
   "cell_type": "code",
   "execution_count": 4,
   "metadata": {},
   "outputs": [
    {
     "name": "stdout",
     "output_type": "stream",
     "text": [
      "[INFO]: Flagging results (before filtering): flagged 1 out of 750 lumisections.\n",
      "[INFO]: Filtering: selected 750 out of 750 lumisections.\n",
      "[INFO]: Flagging results (after filtering): flagged 1 out of 750 lumisections.\n",
      "Output shape (all LS tested): (750,)\n",
      "PixelRing2NMF saved in joblib.\n"
     ]
    }
   ],
   "source": [
    "# Create model\n",
    "pixel_model = PixelRing2NMF({'Ring2': nmf_model})\n",
    "\n",
    "# Execute the prediction\n",
    "flags = pixel_model.predict(dummy_input)\n",
    "print(\"Output shape (all LS tested):\", flags.shape)\n",
    "\n",
    "# Save in joblib for MLServer\n",
    "joblib.dump(pixel_model, os.path.join(mlserverdir, 'pixelring2nmf.joblib'))\n",
    "print(\"PixelRing2NMF saved in joblib.\")"
   ]
  },
  {
   "cell_type": "code",
   "execution_count": null,
   "metadata": {},
   "outputs": [],
   "source": []
  }
 ],
 "metadata": {
  "@webio": {
   "lastCommId": null,
   "lastKernelId": null
  },
  "kernelspec": {
   "display_name": "Python 3",
   "language": "python",
   "name": "python3"
  },
  "language_info": {
   "codemirror_mode": {
    "name": "ipython",
    "version": 3
   },
   "file_extension": ".py",
   "mimetype": "text/x-python",
   "name": "python",
   "nbconvert_exporter": "python",
   "pygments_lexer": "ipython3",
   "version": "3.12.11"
  }
 },
 "nbformat": 4,
 "nbformat_minor": 2
}
