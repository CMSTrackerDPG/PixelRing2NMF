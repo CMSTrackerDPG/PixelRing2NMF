{
 "cells": [
  {
   "cell_type": "markdown",
   "id": "7236284d",
   "metadata": {},
   "source": [
    "# Finding Anomalies for an Entire Era\n",
    "This notebook is for compiling an Excel file detailing all of the anomalies in a single era. \n",
    "\n",
    "Specify the Era\n",
    "\n",
    "1. Load the appropriate model\n",
    "2. Import all runs/lumisections that pass the DCS flags\n",
    "3. Predict on the lumisections\n",
    "4. Loop over each run\n",
    "    * Split the long combined lumisection, data, and predictions arrays with their respective run number\n",
    "    * Store the predictions with the specific run in a dictionary\n",
    "    * Keep a running list of each dictionary\n",
    "5. Loop over each run\n",
    "    * Calculate the losses and binary losses (Do this in separate loop so we can change the loss threshold)\n",
    "6. Loop over each run and analyze the anomalies\n",
    "    * Try to figure out a data storage format that we can run through the normal Excel creation format\n",
    "7. Create an plot for each anomalous lumisection"
   ]
  },
  {
   "cell_type": "code",
   "execution_count": 1,
   "id": "a85f80a1",
   "metadata": {
    "init_cell": true
   },
   "outputs": [
    {
     "name": "stdout",
     "output_type": "stream",
     "text": [
      "CPU times: user 1.4 s, sys: 1.06 s, total: 2.46 s\n",
      "Wall time: 2.94 s\n"
     ]
    }
   ],
   "source": [
    "%%time\n",
    "# imports\n",
    "\n",
    "import os\n",
    "import sys\n",
    "import json\n",
    "import time\n",
    "import joblib\n",
    "import importlib\n",
    "import itertools\n",
    "import numpy as np\n",
    "import pandas as pd\n",
    "import matplotlib.pyplot as plt\n",
    "\n",
    "# thisdir = os.getcwd()\n",
    "# topdir = os.path.abspath(os.path.join(thisdir, '../../../'))\n",
    "# sys.path.append(topdir)\n",
    "\n",
    "# import tools.iotools as iotools\n",
    "# import tools.dftools as dftools\n",
    "import plottools as plottools\n",
    "# from tools.dataloadertools import MEDataLoader\n",
    "\n",
    "# from studies.clusters_2024.preprocessing.preprocessor import make_default_preprocessor\n",
    "# from studies.clusters_2024.nmf.modeldefs.nmf2d \n",
    "from nmf2d import NMF2D\n",
    "# from studies.clusters_2024.nmf.nmf_training import find_files, train\n",
    "\n",
    "import functions\n",
    "importlib.reload(functions);\n",
    "from functions import *\n",
    "# from functions import save_digis_png\n",
    "# from functions import extract_data_2d\n",
    "# #from functions import extract_data_2d_multi_lumis\n",
    "# from functions import plot_fpix_digi\n",
    "# from functions import remove_cross\n",
    "# from functions import add_cross\n",
    "# from pyarrow.parquet import ParquetDataset\n",
    "    \n",
    "#Used to load an extension that can skip the remaining execution of a cell. \n",
    "#Used to skip the training so we don't constantly retrain a model\n",
    "%load_ext skip_kernel_extension\n",
    "%reload_ext skip_kernel_extension\n",
    "\n",
    "optimized_powerGroupStringsList = np.array(['FPix_BmO_D3_ROG4','FPix_BmO_D2_ROG4','FPix_BmO_D1_ROG4','FPix_BmO_D3_ROG3','FPix_BmO_D2_ROG3','FPix_BmO_D1_ROG3','FPix_BmO_D3_ROG2','FPix_BmO_D2_ROG2','FPix_BmO_D1_ROG2','FPix_BmO_D3_ROG1','FPix_BmO_D2_ROG1','FPix_BmO_D1_ROG1','FPix_BmI_D3_ROG1','FPix_BmI_D2_ROG1','FPix_BmI_D1_ROG1','FPix_BmI_D3_ROG2','FPix_BmI_D2_ROG2','FPix_BmI_D1_ROG2','FPix_BmI_D3_ROG3','FPix_BmI_D2_ROG3','FPix_BmI_D1_ROG3','FPix_BmI_D3_ROG4','FPix_BmI_D2_ROG4','FPix_BmI_D1_ROG4','FPix_BpO_D1_ROG4','FPix_BpO_D2_ROG4','FPix_BpO_D3_ROG4','FPix_BpO_D1_ROG3','FPix_BpO_D2_ROG3','FPix_BpO_D3_ROG3','FPix_BpO_D1_ROG2','FPix_BpO_D2_ROG2','FPix_BpO_D3_ROG2','FPix_BpO_D1_ROG1','FPix_BpO_D2_ROG1','FPix_BpO_D3_ROG1','FPix_BpI_D1_ROG1','FPix_BpI_D2_ROG1','FPix_BpI_D3_ROG1','FPix_BpI_D1_ROG2','FPix_BpI_D2_ROG2','FPix_BpI_D3_ROG2','FPix_BpI_D1_ROG3','FPix_BpI_D2_ROG3','FPix_BpI_D3_ROG3','FPix_BpI_D1_ROG4','FPix_BpI_D2_ROG4','FPix_BpI_D3_ROG4'])\n",
    "#A list of all of the quarters of the detector\n",
    "QUARTERS = np.array([['FPix_BmI_D3_ROG1','FPix_BmI_D3_ROG2','FPix_BmI_D3_ROG3','FPix_BmI_D3_ROG4','FPix_BmI_D2_ROG1','FPix_BmI_D2_ROG2','FPix_BmI_D2_ROG3','FPix_BmI_D2_ROG4','FPix_BmI_D1_ROG1','FPix_BmI_D1_ROG2','FPix_BmI_D1_ROG3','FPix_BmI_D1_ROG4'], ['FPix_BmO_D3_ROG1','FPix_BmO_D3_ROG2','FPix_BmO_D3_ROG3','FPix_BmO_D3_ROG4','FPix_BmO_D2_ROG1','FPix_BmO_D2_ROG2','FPix_BmO_D2_ROG3','FPix_BmO_D2_ROG4','FPix_BmO_D1_ROG1','FPix_BmO_D1_ROG2','FPix_BmO_D1_ROG3','FPix_BmO_D1_ROG4'], ['FPix_BpI_D1_ROG1','FPix_BpI_D1_ROG2','FPix_BpI_D1_ROG3','FPix_BpI_D1_ROG4','FPix_BpI_D2_ROG1','FPix_BpI_D2_ROG2','FPix_BpI_D2_ROG3','FPix_BpI_D2_ROG4','FPix_BpI_D3_ROG1','FPix_BpI_D3_ROG2','FPix_BpI_D3_ROG3','FPix_BpI_D3_ROG4'], ['FPix_BpO_D1_ROG1','FPix_BpO_D1_ROG2','FPix_BpO_D1_ROG3','FPix_BpO_D1_ROG4','FPix_BpO_D2_ROG1','FPix_BpO_D2_ROG2','FPix_BpO_D2_ROG3','FPix_BpO_D2_ROG4','FPix_BpO_D3_ROG1','FPix_BpO_D3_ROG2','FPix_BpO_D3_ROG3','FPix_BpO_D3_ROG4']])"
   ]
  },
  {
   "cell_type": "markdown",
   "id": "e9104f71",
   "metadata": {},
   "source": [
    "|         Era         | C | D | E | E | F |   F  |   G  |   H  |   I  |   I  |\n",
    "|:-------------------:|:-:|:-:|:-:|:-:|:-:|:----:|:----:|:----:|:----:|:----:|\n",
    "|       Version       | 1 | 1 | 1 | 2 | 1 |   1  |   1  |   1  |   1  |   2  |\n",
    "|         Part        | 1 | 1 | 1 | 1 | 1 |   2  |   1  |   1  |   1  |   1  |\n",
    "|        Model        | C | C | C | C | C | F_p2 | F_p2 | F_p2 | F_p2 | F_p2 |\n",
    "| Loss 4e5 Cutoff 40% | ✓ | ✓ | ✓ | ✓ | ✓ | ✓    | ✓    | ✓    | ✓    | ✓    |\n",
    "| Loss 7e5 Cutoff 50% | ✓ | ✓ | ✓ | ✓ | ✓ | ✓    | ✓    | ✓    | ✓    | ✓    |"
   ]
  },
  {
   "cell_type": "markdown",
   "id": "0a9beaec",
   "metadata": {},
   "source": [
    "# Important Variables"
   ]
  },
  {
   "cell_type": "code",
   "execution_count": 2,
   "id": "daead652",
   "metadata": {},
   "outputs": [],
   "source": [
    "#This one variable determines the entire era to import and detect anomalies on\n",
    "ERA = \"C\" #This is the era you want to TEST on. I believe I've successfully decoupled this from the model importing.\n",
    "VERSION = 2\n",
    "YEAR = 2025\n",
    "MODEL_PART = 1 #REMEMBER TO SET THIS TO 2 IF YOU WANT TO TEST ON THE SECOND HALF OF ERA F!!!!!\n",
    "NUM_COMPONENTS = 5\n",
    "MODEL_NAME = f'nmf_model_era{YEAR}{ERA}_v{VERSION}_p{MODEL_PART}_{NUM_COMPONENTS}_Components.pkl'\n",
    "MODEL_NAME = f'nmf_model_era{YEAR}{ERA}_v{1}_p{2}_{NUM_COMPONENTS}_Components_Attempt_4.pkl'\n",
    "\n",
    "if ERA==\"F\": print(\"REMEMBER TO SET MODEL_PART TO 2 IF YOU WANT TO TEST ON THE SECOND HALF OF ERA F!!\")\n",
    "if ERA!=\"F\" and YEAR==2024 and MODEL_PART!=1: raise Exception(\"Only 2024 ERA F has a MODEL_PART greater than 1!!!\")\n",
    "if ERA!=\"C\" and YEAR==2025 and MODEL_PART!=2: raise Exception(\"Only 2025 ERA C has a MODEL_PART greater than 1!!!\")\n",
    "\n",
    "# #Important variables for the entire notebook\n",
    "FORCE_PREDICT = False #whether or not to force the model to repredict. WARNING: Predicting takes a VERY long time. ~30mins for 25,000 lumisections\n",
    "LOSS_THRESHOLD = 9e5 #The threshold for the binary loss. Determines whether or not the loss is large enough to count as anomalous\n",
    "ANOMALY_CUTOFF = .4 #The percentage of a powergroup that must be out before we count it as an anomaly and record that specific lumisection\n",
    "#Plotting Globals\n",
    "DO_PLOTTING = False #Whether or not to plot EVERY anomalous lumisection in this era. WARNING: Takes a long time. ~13mins for 93 anomalies\n",
    "SAVE_FIGS = False #Whether or not to also SAVE the plot of every anomalous lumisection. DO_PLOTTING must also be True for the images to be saved\n",
    "SHOW_FIGS = False #Whether or not to also SHOW the plot of every anomalous lumisection. DO_PLOTTING must also be True for the images to be showed. It is possible to show and not save the images\n",
    "\n",
    "#Some light calculation of important variables\n",
    "file = f'/eos/user/a/alaperto/TkDQM/Devel/NMFolder/data/ZeroBias-Run{YEAR}{ERA}-PromptReco-v{VERSION}-DQMIO-PixelPhase1-Phase1_MechanicalView-PXForward-clusters_per_SignedDiskCoord_per_SignedBladePanelCoord_PXRing_1.parquet'\n",
    "oms_json = f'omsdata/omsdata_Run{YEAR}{ERA}-v{VERSION}.json'\n",
    "ring_num = int(file[-9]) #The -9th character is ALWAYS the ring number for our data\n",
    "\n",
    "#The directory name to use for \n",
    "#'NMF Folder/Excel Anomaly Files/DIR_NAME/excel files' and 'NMF Folder/images/DIR_NAME/images'\n",
    "DIR_NAME = f\"Era_{YEAR}{ERA}_LossThresh_{np.format_float_scientific(LOSS_THRESHOLD, trim='-')}_AnomalyCutoff_{int(ANOMALY_CUTOFF*100)}%_{NUM_COMPONENTS}_Components\" "
   ]
  },
  {
   "cell_type": "markdown",
   "id": "8b2b5c3d",
   "metadata": {},
   "source": [
    "## 1. Load the Model"
   ]
  },
  {
   "cell_type": "code",
   "execution_count": 3,
   "id": "b439243b",
   "metadata": {},
   "outputs": [
    {
     "name": "stdout",
     "output_type": "stream",
     "text": [
      "The Era is C!\n",
      "Loaded Model: models/PXRing_1/nmf_model_era2025C_v1_p2_5_Components_Attempt_4.pkl\n",
      "Model Shape: [88, 48]\n"
     ]
    }
   ],
   "source": [
    "#or load nmf an already produced one\n",
    "#Check if a model with the version number exists\n",
    "# nmf_file = f'models/PXRing_1/nmf_model_era{MODEL_ERA}_p{MODEL_PART}.pkl'\n",
    "# if not os.path.exists(nmf_file):\n",
    "# #if not, use the one without the part number\n",
    "#     nmf_file = f'models/PXRing_1/nmf_model_era{MODEL_ERA}.pkl'\n",
    "# #If we don't already have a model then fall back to era C\n",
    "# if not os.path.exists(nmf_file):\n",
    "#     nmf_file = f'models/PXRing_1/nmf_model_eraC.pkl'\n",
    "#     print(f\"No Model Found for Era {MODEL_ERA}! Falling Back to Era C.\")\n",
    "\n",
    "# #Screw this, I am just hard coding the models for each Era and part number\n",
    "# if (ERA=='C' or ERA=='D' or ERA=='E' or ERA=='F') and MODEL_PART==1:\n",
    "#     nmf_file = f'models/PXRing_1/nmf_model_eraC.pkl'\n",
    "# elif (ERA=='F' and MODEL_PART==2) or (ERA=='G' or ERA=='H' or ERA=='I'):\n",
    "#     nmf_file = f'models/PXRing_1/nmf_model_eraF.pkl'\n",
    "# else:\n",
    "#     print(\"INVALID COMBO OF ERA AND MODEL PARTS\")\n",
    "\n",
    "#Screw this AGAIN, all attempts at standardizing a model name format have failed\n",
    "#I'll just have the user specify the specific model to load at the start in the Important Variables\n",
    "\n",
    "nmf_file = f'models/PXRing_{ring_num}/{MODEL_NAME}'\n",
    "\n",
    "nmf = joblib.load(nmf_file)\n",
    "\n",
    "print(f\"The Era is {ERA}!\")\n",
    "print(f\"Loaded Model: {nmf_file}\")\n",
    "print(f\"Model Shape: {nmf.xshape}\")"
   ]
  },
  {
   "cell_type": "markdown",
   "id": "c6acd06e",
   "metadata": {},
   "source": [
    "## 2. Import all runs/lumisections that pass the DCS flags\n",
    "Import the entire era at once so we only have to go to the disk once. \n",
    "\n",
    "Use the OMS JSON to filter only the lumisections that pass the DCS flags. Helps to reduce unnecessary predictions on bad lumisections"
   ]
  },
  {
   "cell_type": "code",
   "execution_count": 4,
   "id": "0cd95e8c",
   "metadata": {
    "scrolled": false
   },
   "outputs": [
    {
     "name": "stdout",
     "output_type": "stream",
     "text": [
      "There are 27 Runs and 20942 Lumisections that Pass All DCS Flags: \n",
      " [393111 393125 393126 393127 393128 393129 393147 393168 393169 393170\n",
      " 393171 393240 393273 393274 393275 393276 393331 393346 393347 393376\n",
      " 393377 393378 393445 393446 393447 393448 393461]\n",
      "CPU times: user 7.57 s, sys: 7 s, total: 14.6 s\n",
      "Wall time: 15.8 s\n"
     ]
    }
   ],
   "source": [
    "%%time\n",
    "#Any logic for when parts of the detector are disabled. \n",
    "extra_filters = []\n",
    "#Logic for Era F part 2 and 2025 Era C part 1/2\n",
    "if ERA == \"F\" and MODEL_PART == 1 and YEAR == 2024:\n",
    "    extra_filters.append(('run_number', '<', 382799))\n",
    "elif ERA == \"F\" and MODEL_PART == 2 and YEAR == 2024:\n",
    "    extra_filters.append(('run_number', '>=', 382799))\n",
    "elif ERA == \"C\" and VERSION == 1 and MODEL_PART == 1 and YEAR == 2025:\n",
    "    extra_filters.append(('run_number', '<=', 392668))\n",
    "elif ERA == \"C\" and VERSION == 2 and MODEL_PART == 1 and YEAR == 2025:\n",
    "    extra_filters.append(('run_number', '>', 392668))\n",
    "    extra_filters.append(('run_number', '<', 393512))#Everything past this is a special machine development run\n",
    "#Testing the function to import AND filter an entire era at once\n",
    "multi_lumi_data, all_runs, lumis, df = extract_data_whole_era(file, oms_json, extra_filters=extra_filters)\n",
    "del df\n",
    "all_runs, indices = np.unique(all_runs, return_index=True)\n",
    "indices = indices[1:] #The first index in indices is always 0, since the first number is always unique, so we discard that. \n",
    "print(f\"There are {len(all_runs)} Runs and {len(lumis)} Lumisections that Pass All DCS Flags: \\n\", all_runs)\n",
    "#Optional if you'd like to see how many TOTAL runs there are, as most runs are entirely disqualified due to DCS Flags. \n",
    "# dataset = ParquetDataset(file).read().to_pandas()\n",
    "# all_runs = np.array(dataset[\"run_number\"].unique())\n",
    "# print(f\"There are {len(all_runs)} Total Available Runs: \\n\", all_runs)"
   ]
  },
  {
   "cell_type": "markdown",
   "id": "943618fb",
   "metadata": {},
   "source": [
    "## 3. Predict on the lumisections"
   ]
  },
  {
   "cell_type": "code",
   "execution_count": 5,
   "id": "ccbfb5dd",
   "metadata": {},
   "outputs": [
    {
     "name": "stdout",
     "output_type": "stream",
     "text": [
      "models/PXRing_1/nmf_model_era2025C_v1_p2_5_Components_Attempt_4/predictions/Era_2025C_ver_2_Ring_1_20942_Lumisections_Predictions_No_Cross\n",
      "Predictions Already Exist! Loading predictions from models/PXRing_1/nmf_model_era2025C_v1_p2_5_Components_Attempt_4/predictions/Era_2025C_ver_2_Ring_1_20942_Lumisections_Predictions_No_Cross\n",
      "Predictions with (20942, 88, 48) shape loaded from models/PXRing_1/nmf_model_era2025C_v1_p2_5_Components_Attempt_4/predictions/Era_2025C_ver_2_Ring_1_20942_Lumisections_Predictions_No_Cross.npy\n",
      "CPU times: user 443 ms, sys: 1.01 s, total: 1.45 s\n",
      "Wall time: 7.36 s\n"
     ]
    }
   ],
   "source": [
    "%%time\n",
    "FORCE_PREDICT = FORCE_PREDICT  #Force a prediction to occur and overwrite the previous predictions\n",
    "\n",
    "#Remove the cross so we can predict on it\n",
    "multi_lumi_data_no_cross = remove_cross(multi_lumi_data)\n",
    "\n",
    "#Save predictions array to a file since they take so long to produce\n",
    "filename = f\"Era_{YEAR}{ERA}_ver_{VERSION}_Ring_{ring_num}_{len(lumis)}_Lumisections_Predictions_No_Cross\"\n",
    "#Save the predictions to the directory of the model that did the predictions\n",
    "prediction_dir = nmf_file[0:-4] + '/predictions'\n",
    "#If we don't already have a prediction directory then make it\n",
    "if not os.path.exists(prediction_dir): os.makedirs(prediction_dir)\n",
    "prediction_filepath = prediction_dir + f\"/{filename}\"\n",
    "\n",
    "print(prediction_filepath)\n",
    "\n",
    "if os.path.exists(prediction_filepath + '.npy') and FORCE_PREDICT == False:\n",
    "    print(f\"Predictions Already Exist! Loading predictions from {prediction_filepath}\")\n",
    "    mes_pred = np.load(prediction_filepath + '.npy')\n",
    "    print(f\"Predictions with {mes_pred.shape} shape loaded from {prediction_filepath}.npy\")\n",
    "else:\n",
    "    if FORCE_PREDICT: \n",
    "        print(f\"FORCE_PREDICT is TRUE. Will overwrite the predictions file at {prediction_filepath}!\")\n",
    "    else:\n",
    "        print(\"Predictions Don't Already Exist for This Model and Era! Starting Prediction. \")\n",
    "\n",
    "    #Predict on the data\n",
    "    print(f'Predicting...')\n",
    "    start_time = time.time()\n",
    "    mes_pred = nmf.predict(multi_lumi_data_no_cross)\n",
    "    np.save(prediction_filepath, mes_pred)\n",
    "    print(f\"Done Predicting in {time.time() - start_time} Seconds!\\n\")"
   ]
  },
  {
   "cell_type": "markdown",
   "id": "3f8d5473",
   "metadata": {},
   "source": [
    "## 4. Loop over each run\n",
    "    * Split the long combined lumisection, data, and predictions arrays with their respective run number\n",
    "    * Store the predictions with the specific run in a dictionary\n",
    "    * Keep a running list of each dictionary"
   ]
  },
  {
   "cell_type": "code",
   "execution_count": 6,
   "id": "3cff02fa",
   "metadata": {
    "scrolled": true
   },
   "outputs": [
    {
     "name": "stdout",
     "output_type": "stream",
     "text": [
      "CPU times: user 5.67 s, sys: 331 ms, total: 6 s\n",
      "Wall time: 6.04 s\n"
     ]
    }
   ],
   "source": [
    "%%time\n",
    "#Verbose=0: No prints. Verbose=1: Some prints. Verbose>=2: Some very long prints\n",
    "verbose = 0\n",
    "\n",
    "#Split the long combined arrays of the lumisections, the data, and the predictions\n",
    "lumisections = np.split(lumis, indices)\n",
    "data_arr = np.split(multi_lumi_data_no_cross, indices)\n",
    "pred_arr = np.split(mes_pred, indices)\n",
    "\n",
    "#print(pred_arr[1].shape)\n",
    "\n",
    "#Now that we have our data split into arrays by run number, we can loop over the unique run numbers \n",
    "#and generate our data_dicts and put them in a data_dict_list. So it is in a format ready to be used to calculate the losses and anomalies. \n",
    "#Create a list to store all of the lumisections and predictions\n",
    "data_dict_list = list(np.empty_like(all_runs)) \n",
    "for index, run_number in enumerate(all_runs):\n",
    "    data_dict = {}\n",
    "    data_dict[\"run_number\"] = run_number\n",
    "    data_dict[\"lumisections\"] = lumisections[index]\n",
    "    data_dict[\"data\"] = data_arr[index]\n",
    "    data_dict[\"predictions\"] = pred_arr[index]\n",
    "    #Add the cross into the predictions and data\n",
    "    data_dict[\"data_cross\"] = add_cross(data_arr[index])\n",
    "    data_dict[\"predictions_cross\"] = add_cross(pred_arr[index])\n",
    "    \n",
    "    #Add this run to the data dict list\n",
    "    data_dict_list[index] = data_dict    \n",
    "    #Printing\n",
    "    if verbose>0:\n",
    "        print(f\"Run Number: {run_number}\")\n",
    "        print(f\"\\tThere are {len(lumisections[index])} Extracted Lumisections:\\n\\t{lumisections[index]}\\n\")\n",
    "    if verbose>1:\n",
    "        print(data_dict)\n",
    "        \n",
    "if verbose>0:\n",
    "    print(data_dict_list[0])\n",
    "elif verbose>1:\n",
    "    print(data_dict_list)"
   ]
  },
  {
   "cell_type": "markdown",
   "id": "a1f1d220",
   "metadata": {},
   "source": [
    "## 5. Loop over each run\n",
    "    * Calculate the losses and binary losses (Do this in separate loop so we can change the loss threshold)"
   ]
  },
  {
   "cell_type": "code",
   "execution_count": 7,
   "id": "6a181376",
   "metadata": {},
   "outputs": [
    {
     "name": "stdout",
     "output_type": "stream",
     "text": [
      "CPU times: user 5.42 s, sys: 1.24 s, total: 6.66 s\n",
      "Wall time: 6.7 s\n"
     ]
    }
   ],
   "source": [
    "%%time\n",
    "\n",
    "loss_threshold = LOSS_THRESHOLD\n",
    "\n",
    "#Loop over each data dictionary in the list and calculate the losses and binary losses. \n",
    "#Add these to the dictionaries as we go along. \n",
    "for index, data_dict in enumerate(data_dict_list):\n",
    "    #Extract the needed info from the data_dict\n",
    "    multi_lumi_data_no_cross = data_dict[\"data\"]\n",
    "    mes_pred = data_dict[\"predictions\"]\n",
    "    \n",
    "    #Calculate losses\n",
    "    losses = np.square(multi_lumi_data_no_cross - mes_pred)\n",
    "    losses_binary = (losses > loss_threshold).astype(int)\n",
    "    \n",
    "    #Add the crosses back\n",
    "    losses_cross = add_cross(losses)\n",
    "    losses_binary_cross = add_cross(losses_binary)\n",
    "    \n",
    "    #Add new entries to the data_dict\n",
    "    #This will automatically update the dictionaries in the data_dict_list\n",
    "    data_dict[\"losses\"] = losses_cross\n",
    "    data_dict[\"losses_binary\"] = losses_binary_cross"
   ]
  },
  {
   "cell_type": "markdown",
   "id": "eb061d02",
   "metadata": {},
   "source": [
    "## 6. Loop over each run and analyze the anomalies. "
   ]
  },
  {
   "cell_type": "markdown",
   "id": "d315c89b",
   "metadata": {},
   "source": [
    "### Analyze Each Lumisection of Each Run for Anomalies"
   ]
  },
  {
   "cell_type": "code",
   "execution_count": 8,
   "id": "63879827",
   "metadata": {
    "scrolled": false
   },
   "outputs": [
    {
     "name": "stdout",
     "output_type": "stream",
     "text": [
      "There Were 734 Anomalous Lumisections Found in Era C Version 2 From Run 393111 to Run 393461!!\n",
      "For some reason the above number can disagree with the sum of the Num_LS column in Excel. But they are never far off. \n",
      "CPU times: user 24.4 s, sys: 37.2 ms, total: 24.4 s\n",
      "Wall time: 24.5 s\n"
     ]
    }
   ],
   "source": [
    "%%time\n",
    "\n",
    "testingtime = False\n",
    "verbose = False\n",
    "\n",
    "#Flag a lumisection if more than anomaly_cutoff percentage of bins are on\n",
    "anomaly_cutoff = ANOMALY_CUTOFF\n",
    "#Create lists for tracking the anomalous lumisections in all of the runs\n",
    "all_anomalous_runs = []\n",
    "all_anomalous_lumisections = []\n",
    "all_anomalous_powergroups = []\n",
    "\n",
    "for i, data_dict in enumerate(data_dict_list):\n",
    "    #Extract the required info from the data_dict\n",
    "    run_number = data_dict[\"run_number\"]\n",
    "    lumisections = data_dict[\"lumisections\"]\n",
    "    losses_binary_cross = data_dict[\"losses_binary\"]\n",
    "    \n",
    "    #Currently a list of anomalous lumisections and their powergroups\n",
    "    #These arrays are prevented from getting out of sync by still appending \n",
    "    #the anomalous lumisection even if that lumisection was already marked bad with a different powergroup\n",
    "    anomalous_lumisections = []\n",
    "    anomalous_powergroups = []\n",
    "\n",
    "    for index, lumisection in enumerate(lumisections):\n",
    "        if verbose: print(f\"Index: {index} \\t Lumisection: {lumisection}\")\n",
    "\n",
    "        for j, powergroup in enumerate(optimized_powerGroupStringsList):\n",
    "            #if not testingtime: print(f\"Power Group String: {powergroup}\")\n",
    "            powerGroupSlice, diskSlice = powerGroupToIndex(powergroup)\n",
    "\n",
    "            #Access each power group in each lumisection and see if more than 50% of the bins are on\n",
    "            #A bit ugly, but this was the fastest way I found. Saved about .1 seconds over saving the powergroup data to another variable. \n",
    "            if int(np.sum(losses_binary_cross[index, powerGroupSlice, diskSlice].flatten())) >= int(anomaly_cutoff * losses_binary_cross[index, powerGroupSlice, diskSlice].flatten().size):\n",
    "                if verbose: print(f\"Anomalous Power Group: {powergroup} \\t in Lumisection: {lumisection} \\t with Binary Sum: {np.sum(powerGroup_data)}\")\n",
    "                all_anomalous_runs.append(run_number)\n",
    "                anomalous_lumisections.append(lumisection)\n",
    "                anomalous_powergroups.append(powergroup)\n",
    "                \n",
    "            #This is used to pull out specific lumisection and check their binary loss occupancy\n",
    "#             if run_number == 381544 and lumisection == 1861:\n",
    "#                 print(f\"Powergroup: {powergroup}\")\n",
    "#                 print(f\"Powergroup Size:{losses_binary_cross[index, powerGroupSlice, diskSlice].flatten().size}\")\n",
    "#                 print(f\"Sum of Binary Loss:{np.sum(losses_binary_cross[index, powerGroupSlice, diskSlice].flatten())}\\n\")\n",
    "\n",
    "                if verbose: save_digis_png(losses_binary_cross[index], testing_ring_num, lumisection, 1)\n",
    "    #Update the data_dict with the anomalous lumisections and powergroups\n",
    "    #I don't have a plan for them currently, but it could be useful\n",
    "    data_dict[\"anomalous_lumisections\"] = np.array(anomalous_lumisections)\n",
    "    data_dict[\"anomalous_powergroups\"] = np.array(anomalous_powergroups)\n",
    "    \n",
    "    #EXTEND the anomalous lumisections and powegroups to the ALL list. Extend keeps the list flat\n",
    "    all_anomalous_lumisections.extend(anomalous_lumisections)\n",
    "    all_anomalous_powergroups.extend(anomalous_powergroups)\n",
    "    \n",
    "# print(all_anomalous_runs)\n",
    "# print(all_anomalous_lumisections)\n",
    "# print(all_anomalous_powergroups)\n",
    "# print(data_dict_list[-2])\n",
    "num_anomalous_lumisections, all_anomalous_lumisections_unique = calcNumAnomalousLumisections(data_dict_list)\n",
    "print(f\"There Were {num_anomalous_lumisections} Anomalous Lumisections Found in Era {ERA} Version {VERSION} From Run {all_runs[0]} to Run {all_runs[-1]}!!\")\n",
    "print(\"For some reason the above number can disagree with the sum of the Num_LS column in Excel. But they are never far off. \")\n",
    "#Might happen due to lumisections appearing twice in the excel file. Like when a single lumisection has both a single disk anomaly and a multi disk anomaly\n",
    "#The lumisection could be double counted. There may be more cases where this happens. "
   ]
  },
  {
   "cell_type": "markdown",
   "id": "0c0a5e62",
   "metadata": {},
   "source": [
    "## Identify Anomaly Types\n",
    "This section will identify runs in lumisections that stay the same then compare the powergroups and see if there are any multi-disk anomalies. \n",
    "\n",
    "If there are no repeating lumisections, then it is just a single disk anomaly. \n",
    "\n",
    "### Create a file summarizing all lumisections and their anomalies\n",
    "#### Run_Number    Lumisection    PRT    Disk    Ring_Num    Anomaly_Type"
   ]
  },
  {
   "cell_type": "code",
   "execution_count": 9,
   "id": "fdb779d5",
   "metadata": {},
   "outputs": [
    {
     "name": "stdout",
     "output_type": "stream",
     "text": [
      "CPU times: user 961 ms, sys: 30.8 ms, total: 992 ms\n",
      "Wall time: 1.79 s\n"
     ]
    }
   ],
   "source": [
    "%%time\n",
    "#Identify multi disk anomalies\n",
    "verbose = 0\n",
    "#Create a pandas dataframe that we can use to track EACH anomalous lumisection in each run\n",
    "headers = [\"Run_Number\", \"Lumisection\", \"Powergroup\", \"Disk\", \"Ring_Num\", \"Anomaly_Type\"]\n",
    "all_detailed_anomaly_df = pd.DataFrame(columns=headers)\n",
    "\n",
    "#Loop over each data dict in the data dict list\n",
    "for index, data_dict in enumerate(data_dict_list):\n",
    "    #Extract the relavant information\n",
    "    run_number = data_dict[\"run_number\"]\n",
    "    anomalous_lumisections = data_dict[\"anomalous_lumisections\"]\n",
    "    anomalous_powergroups = data_dict[\"anomalous_powergroups\"]\n",
    "    \n",
    "    #If there are no anomaous lumisections or powergroups then stop this iteration\n",
    "    if anomalous_lumisections.size == 0 or anomalous_powergroups.size == 0:\n",
    "        continue\n",
    "    \n",
    "\n",
    "    #Create dataframe of anomalous lumisections and powergroups\n",
    "    anomaly_df = pd.DataFrame({\"lumisections\": anomalous_lumisections, \"powergroups\": anomalous_powergroups})\n",
    "\n",
    "    if verbose>0: print(\"Anomaly Dataframe: \\n\", anomaly_df, '\\n')\n",
    "\n",
    "    #Create unique arrays to pare down duplicate data\n",
    "    anomalous_lumisections_unique = np.unique(anomalous_lumisections)\n",
    "\n",
    "\n",
    "    #Create a list of dictionaries for easier saving to text\n",
    "    dictList = np.empty_like(anomalous_lumisections_unique, dtype=dict)\n",
    "\n",
    "    detailed_anomaly_df = pd.DataFrame(columns=headers)\n",
    "\n",
    "    # print(\"AHHHHHHH\\n\", detailed_anomaly_df)\n",
    "    if verbose>0: print('-----------------------------------------')\n",
    "    #Loop over each unique lumisection\n",
    "    for index, lumisection in enumerate(anomalous_lumisections_unique):\n",
    "        #These values are the same for single/multi disk anomalies\n",
    "        dataDict = dict.fromkeys(headers)\n",
    "        dataDict[\"Run_Number\"] = run_number\n",
    "        dataDict[\"Lumisection\"] = lumisection\n",
    "        dataDict[\"Ring_Num\"] = ring_num\n",
    "\n",
    "        #Get the lumisection and all of the anomaly powergroups\n",
    "        #If there is only one powergroup, mark it Single Disk, preparing the detailed Pandas anomaly dataframe, then move on\n",
    "        #If there is multiple powergroups, iterate through each pair, breaking on the first Multi-disk anomaly after preparing the detailed Pandas anomaly dataframe\n",
    "        #If there is no Multi-disk anomaly despite there being multiple anomalies in one lumisection, prepare the detailed Pandas anomaly dataframe with EACH anomaly\n",
    "\n",
    "\n",
    "        dataframe = anomaly_df[anomaly_df[\"lumisections\"] == lumisection]\n",
    "        if verbose>0: print(dataframe, '\\n')\n",
    "        powergroups = dataframe[\"powergroups\"].to_list()\n",
    "        if verbose>0: print(f\"Powergroups: {powergroups}\")\n",
    "\n",
    "        #If there are 12 anomalous powergroups in one lumisection, check if it's a whole quarter out\n",
    "        if len(powergroups) == 12:\n",
    "            for quarter in QUARTERS:\n",
    "                #If all of the powergroups are in one quarter, then we can save and break early\n",
    "                if np.all(np.isin(powergroups, quarter)):\n",
    "                    #Fill in the data dict\n",
    "                    m_or_p, I_or_O, disk_number, part_number = analyzePowerGroupString(powergroups[0])\n",
    "                    dataDict[\"Powergroup\"] = ':'.join(powergroups) #Make a string of each powergroup separated by colons. A char not typically used in csv's. \n",
    "                    dataDict[\"Disk\"] = \"-1:-2:-3\" if disk_number < 0 else \"1:2:3\"\n",
    "                    dataDict[\"Anomaly_Type\"] = \"Whole Quarter\"\n",
    "                    dataFrame = pd.Series(dataDict).to_frame().T\n",
    "                    #print(dataFrame)\n",
    "                    detailed_anomaly_df = pd.concat([detailed_anomaly_df, dataFrame])\n",
    "                    #break out of this for loop for the quarters\n",
    "                    break\n",
    "            #then continue to the next unique anomaly\n",
    "            continue\n",
    "\n",
    "        #If there is only one powergroup, mark it as a Single disk anomaly\n",
    "        if len(powergroups) == 1:\n",
    "            #Fill in the data dict\n",
    "            m_or_p, I_or_O, disk_number, part_number = analyzePowerGroupString(powergroups[0])\n",
    "            dataDict[\"Powergroup\"] = powergroups[0]\n",
    "            dataDict[\"Disk\"] = disk_number\n",
    "            dataDict[\"Anomaly_Type\"] = \"Single Disk\"\n",
    "            #Convert the data dict to a pandas dataframe and concat it to the detailed data frame \n",
    "            #(NOTE: If there are many lumisections, it is technically more effificient to create a list of these dataDicts and concat those all at once)\n",
    "            if verbose>1: print(\"DATA DICT:\", dataDict)\n",
    "            dataFrame = pd.Series(dataDict).to_frame().T\n",
    "            #print(dataFrame)\n",
    "            detailed_anomaly_df = pd.concat([detailed_anomaly_df, dataFrame])\n",
    "            #continue to the next loop\n",
    "            continue\n",
    "\n",
    "        #If there is more than one anomalous powergroup in that lumisection and it's NOT the whole quarter out\n",
    "        all_powergroup_combos = itertools.combinations(powergroups, 2)\n",
    "        #Loop over all pairs of powergroups and search for multi-disk anomalies\n",
    "        dataDictList = [] #Create a list to store all of the possible Single Disk anomalies in case there are multiple anomalies but no Multi Disk anomaly\n",
    "        for powergroup_combo in all_powergroup_combos:\n",
    "            #print(\"ADFJNDKFN\", powergroup_combo)\n",
    "            anomaly_type = powerGroupsToAnomalyType(powergroup_combo[0], powergroup_combo[1])\n",
    "            #Extract relevant information\n",
    "            m_or_p_one, I_or_O_one, disk_number_one, part_number_one = analyzePowerGroupString(powergroup_combo[0])\n",
    "            m_or_p_two, I_or_O_two, disk_number_two, part_number_two = analyzePowerGroupString(powergroup_combo[1])\n",
    "            if anomaly_type == \"Multi Disk\":\n",
    "                #Fill in the data dict\n",
    "                dataDict[\"Powergroup\"] = powergroup_combo[0] + ':' + powergroup_combo[1]\n",
    "                dataDict[\"Disk\"] = str(disk_number_one) + ':' + str(disk_number_two)\n",
    "                dataDict[\"Anomaly_Type\"] = \"Multi Disk\"\n",
    "                #Convert the data dict to a pandas dataframe and concat it to the detailed data frame \n",
    "                #(NOTE: If there are many lumisections, it is technically more effificient to create a list of these dataDicts and concat those all at once)\n",
    "                if verbose>1: print(\"DATA DICT:\", dataDict)\n",
    "                dataFrame = pd.Series(dataDict).to_frame().T\n",
    "                #print(dataFrame)\n",
    "                detailed_anomaly_df = pd.concat([detailed_anomaly_df, dataFrame])\n",
    "                #break\n",
    "            else:\n",
    "                #Fill in a data dict for each anomaly\n",
    "                dataDict[\"Powergroup\"] = powergroup_combo[0]\n",
    "                dataDict[\"Disk\"] = str(disk_number_one)\n",
    "                dataDict[\"Anomaly_Type\"] = \"Single Disk\"\n",
    "                #Convert the data dict to a pandas dataframe and concat it to the detailed data frame \n",
    "                #(NOTE: If there are many lumisections, it is technically more effificient to create a list of these dataDicts and concat those all at once)\n",
    "                if verbose>1: print(\"DATA DICT ONE:\", dataDict)\n",
    "                dataFrame = pd.Series(dataDict).to_frame().T\n",
    "                if verbose>1: print(dataFrame)\n",
    "                detailed_anomaly_df = pd.concat([detailed_anomaly_df, dataFrame])\n",
    "\n",
    "                #Fill in second data dict\n",
    "                dataDict[\"Powergroup\"] = powergroup_combo[1]\n",
    "                dataDict[\"Disk\"] = str(disk_number_two)\n",
    "                dataDict[\"Anomaly_Type\"] = \"Single Disk\"\n",
    "                #Convert the data dict to a pandas dataframe and concat it to the detailed data frame \n",
    "                #(NOTE: If there are many lumisections, it is technically more effificient to create a list of these dataDicts and concat those all at once)\n",
    "                if verbose>1: print(\"DATA DICT TWO:\", dataDict)\n",
    "                dataFrame = pd.Series(dataDict).to_frame().T\n",
    "                #print(dataFrame)\n",
    "                detailed_anomaly_df = pd.concat([detailed_anomaly_df, dataFrame])\n",
    "            if verbose>0: print('----------------------------------------')\n",
    "        if verbose>0: print('-----------------------------------------')\n",
    "\n",
    "    #Remove all exact duplicate rows\n",
    "    detailed_anomaly_df = detailed_anomaly_df.drop_duplicates()\n",
    "    if verbose>0: print('\\n\\n')\n",
    "    #print(detailed_anomaly_df)\n",
    "    all_detailed_anomaly_df = pd.concat([all_detailed_anomaly_df, detailed_anomaly_df])\n",
    "    #ensure the directory is created\n",
    "    if not os.path.exists(f\"Anomaly Excel Files/{DIR_NAME}\"): os.makedirs(f\"Anomaly Excel Files/{DIR_NAME}\")\n",
    "    detailed_anomaly_df.to_excel(f\"Anomaly Excel Files/{DIR_NAME}/Era_{YEAR}{ERA}_Run_{run_number}_Anomalies_Raw.xlsx\", index=False, engine='openpyxl')"
   ]
  },
  {
   "cell_type": "code",
   "execution_count": 10,
   "id": "b0ed8d7f",
   "metadata": {},
   "outputs": [
    {
     "name": "stdout",
     "output_type": "stream",
     "text": [
      "Done Condensing Lumisection Runs!\n",
      "Done Condensing Overlaping Anomalies!\n",
      "Final Anomaly Excel File for Era C Saved at `Anomaly Excel Files/Era_2025C_LossThresh_9e+05_AnomalyCutoff_40%_5_Components/Era_2025C_v2_p1_Anomalies.xlsx`\n",
      "CPU times: user 42.5 ms, sys: 1.15 ms, total: 43.7 ms\n",
      "Wall time: 58.5 ms\n"
     ]
    }
   ],
   "source": [
    "%%time\n",
    "# Identify and condense runs of consecutive lumisections for each powergroup\n",
    "condensed_df = condense_lumisection_runs(all_detailed_anomaly_df)\n",
    "# print(\"Condensed consecutive lumisection runs per powergroup:\")\n",
    "# condensed_df = condensed_df.sort_values(by='Start_LS')\n",
    "# print(condensed_df)\n",
    "print(\"Done Condensing Lumisection Runs!\")\n",
    "\n",
    "# Identify and condense overlaping powergroups for each lumisection\n",
    "condensed_df_again = condense_powergroup_overlap(condensed_df, verbose=False)\n",
    "# print(\"Condensed consecutive lumisection runs per Anomaly Type:\")\n",
    "# condensed_df_again = condensed_df_again.sort_values(by='Start_LS')\n",
    "\n",
    "excelFilepath = f\"Anomaly Excel Files/{DIR_NAME}/Era_{YEAR}{ERA}_v{VERSION}_p{MODEL_PART}_Anomalies.xlsx\"\n",
    "\n",
    "condensed_df_again.to_excel(excelFilepath, index=False, engine='openpyxl')\n",
    "print(\"Done Condensing Overlaping Anomalies!\")\n",
    "print(f\"Final Anomaly Excel File for Era {ERA} Saved at `{excelFilepath}`\")"
   ]
  },
  {
   "cell_type": "markdown",
   "id": "2231e2a1",
   "metadata": {},
   "source": [
    "# 7. Create a plot for each anomalous lumisection"
   ]
  },
  {
   "cell_type": "code",
   "execution_count": 18,
   "id": "09ecf5c0",
   "metadata": {
    "scrolled": true
   },
   "outputs": [
    {
     "name": "stdout",
     "output_type": "stream",
     "text": [
      "There are 734 anomalous lumisections from run 393111 to run 393461!\n",
      "Done Run 393111 and 18/734 Anomalous Lumisections in 0.00037026405334472656 Seconds!\n",
      "Done Run 393125 and 22/734 Anomalous Lumisections in 3.647804260253906e-05 Seconds!\n",
      "Done Run 393129 and 26/734 Anomalous Lumisections in 2.9802322387695312e-05 Seconds!\n",
      "Done Run 393147 and 43/734 Anomalous Lumisections in 0.0006051063537597656 Seconds!\n",
      "Done Run 393169 and 48/734 Anomalous Lumisections in 6.914138793945312e-05 Seconds!\n",
      "Done Run 393240 and 462/734 Anomalous Lumisections in 0.003129243850708008 Seconds!\n",
      "Done Run 393273 and 537/734 Anomalous Lumisections in 0.00040411949157714844 Seconds!\n",
      "Done Run 393276 and 540/734 Anomalous Lumisections in 4.57763671875e-05 Seconds!\n",
      "Done Run 393331 and 559/734 Anomalous Lumisections in 0.00013256072998046875 Seconds!\n",
      "Done Run 393346 and 589/734 Anomalous Lumisections in 0.00037860870361328125 Seconds!\n",
      "Done Run 393376 and 601/734 Anomalous Lumisections in 8.106231689453125e-05 Seconds!\n",
      "Done Run 393378 and 618/734 Anomalous Lumisections in 0.000102996826171875 Seconds!\n",
      "Done Run 393445 and 694/734 Anomalous Lumisections in 0.00038909912109375 Seconds!\n",
      "Done Run 393448 and 742/734 Anomalous Lumisections in 0.0003094673156738281 Seconds!\n",
      "Done Run 393461 and 754/734 Anomalous Lumisections in 9.059906005859375e-05 Seconds!\n",
      "CPU times: user 5.49 ms, sys: 1.67 ms, total: 7.16 ms\n",
      "Wall time: 6.55 ms\n"
     ]
    }
   ],
   "source": [
    "%%time\n",
    "\n",
    "doPlotting = DO_PLOTTING\n",
    "saveFigs = SAVE_FIGS\n",
    "showFigs = SHOW_FIGS\n",
    "verbose = 1\n",
    "imageDir = f\"images/{DIR_NAME}\"\n",
    "if saveFigs: \n",
    "    #Ensure the saving directory exists\n",
    "    if not os.path.exists(f\"images/{DIR_NAME}\"): os.makedirs(f\"images/{DIR_NAME}\")\n",
    "    print(f\"Images will be saved in: {imageDir}\")\n",
    "#Create lists for tracking the anomalous lumisections in all of the runs\n",
    "# all_anomalous_runs\n",
    "# all_anomalous_lumisections\n",
    "# all_anomalous_lumisections_unique\n",
    "# all_anomalous_powergroups\n",
    "# total_anomalous_lumisections = len(all_anomalous_lumisections_unique) Either one works\n",
    "total_anomalous_lumisections = num_anomalous_lumisections\n",
    "#Inspect the original data, the prediction, the loss, and the binary loss\n",
    "print(f\"There are {total_anomalous_lumisections} anomalous lumisections from run {all_runs[0]} to run {all_runs[-1]}!\")\n",
    "#print(f\"The anomalous powergroups are:\\n{anomalous_powergroups}\\n\")\n",
    "counter = 0 #Counter for keeping track of if we're almost done\n",
    "previous_counter = 0 #Just used to make the print statements cleaner. Only print progress if the data_dict actually had an anomalous lumisection\n",
    "for i, data_dict in enumerate(data_dict_list):\n",
    "    startTime = time.time()\n",
    "    #Extract the relevant information from the data_dict\n",
    "    run_number = data_dict['run_number']\n",
    "    lumisections = data_dict['lumisections']\n",
    "    multi_lumi_data = data_dict['data_cross']\n",
    "    mes_pred_cross = data_dict['predictions_cross']\n",
    "    losses_cross = data_dict['losses']\n",
    "    losses_binary_cross = data_dict['losses_binary']\n",
    "    anomalous_lumisections = data_dict['anomalous_lumisections']\n",
    "    anomalous_powergroups = data_dict['anomalous_powergroups']\n",
    "    \n",
    "    previous_lumisection = -1\n",
    "    for j, lumisection in enumerate(anomalous_lumisections):\n",
    "        counter += 1 #Increase the counter for each anomalous lumisection plotted\n",
    "        index = lumiToIndex(lumisections, lumisection)\n",
    "        data = multi_lumi_data[index]\n",
    "        prediction = mes_pred_cross[index]\n",
    "        plot_losses = losses_cross[index]\n",
    "        plot_losses_binary = losses_binary_cross[index]\n",
    "        anomalous_powergroup = anomalous_powergroups[j]\n",
    "\n",
    "        if verbose>1: print(f\"Anomalous Power Group: {anomalous_powergroup} \\t in Lumisection: {lumisection} \\t in Run: {run_number}\")\n",
    "        #Plotting and determining whether the current lumisection is the same as the previous one due to multi disk anomalies\n",
    "        if doPlotting and lumisection != previous_lumisection: #only print if the current lumisection is not the previous one again\n",
    "            testingFig, testingAxes = plot_testing_plots(data, prediction, plot_losses, plot_losses_binary, run_number, lumisection, ring_num, \n",
    "                                                         directory=imageDir, saveFig=saveFigs, showFig=showFigs)\n",
    "            #plt.show()\n",
    "            if verbose>0 and showFigs: \n",
    "                print(f\"The Anomalous Powergroup in the Above Image is: {anomalous_powergroup}\")\n",
    "        elif doPlotting and lumisection == previous_lumisection:\n",
    "            if verbose>0 and showFigs: print(f\"Due to a Multi-Disk Anomaly, the Other Anomalous Powergroup is: {anomalous_powergroup}\")\n",
    "        \n",
    "        previous_lumisection = lumisection\n",
    "    #If verbose and there was an anomalous lumisection in that run\n",
    "    if verbose>0 and counter != previous_counter: print(f\"Done Run {run_number} and {counter}/{total_anomalous_lumisections} Anomalous Lumisections in {time.time()-startTime} Seconds!\")\n",
    "    previous_counter = counter"
   ]
  },
  {
   "cell_type": "markdown",
   "id": "10c9ce5a",
   "metadata": {},
   "source": [
    "# Extra Useful Code"
   ]
  },
  {
   "cell_type": "markdown",
   "id": "cda7c99c",
   "metadata": {},
   "source": [
    "## Plot Specific Data, Predictions, Losses, and Binary Losses"
   ]
  },
  {
   "cell_type": "code",
   "execution_count": 16,
   "id": "c80c954c",
   "metadata": {
    "scrolled": true
   },
   "outputs": [
    {
     "name": "stdout",
     "output_type": "stream",
     "text": [
      "All Anomalous Powergroups in This Lumisection: ['FPix_BpO_D2_ROG4']\n",
      "Run Number: 393240\tLumi Number: 3083\n"
     ]
    },
    {
     "data": {
      "image/png": "[encoded data removed]",
      "text/plain": [
       "<Figure size 1440x576 with 8 Axes>"
      ]
     },
     "metadata": {
      "needs_background": "light"
     },
     "output_type": "display_data"
    },
    {
     "name": "stdout",
     "output_type": "stream",
     "text": [
      "CPU times: user 1.6 s, sys: 454 ms, total: 2.06 s\n",
      "Wall time: 5.7 s\n"
     ]
    }
   ],
   "source": [
    "%%time\n",
    "#Inspect the original data, the prediction, the loss, and the binary loss\n",
    "run_number = 393240\n",
    "lumi_number = 3083\n",
    "verbose = 1\n",
    "save_fig = False\n",
    "\n",
    "#Find the data_dict with a run number of run_number and extract the relevant information\n",
    "#https://stackoverflow.com/questions/8653516/search-a-list-of-dictionaries-in-python. See here\n",
    "plot_dict = next((data_dict for data_dict in data_dict_list if data_dict[\"run_number\"] == run_number), None)\n",
    "if plot_dict == None:\n",
    "    raise Exception(f\"Run Number {run_number} is not in the list of dictionaries!\")\n",
    "\n",
    "#Extract the relavant information for plotting\n",
    "lumisections = plot_dict['lumisections']\n",
    "if verbose>1: print(f\"There are {len(lumisections)} Available Lumisections:\\n{lumisections}\")\n",
    "multi_lumi_data = plot_dict['data_cross']\n",
    "mes_pred_cross = plot_dict['predictions_cross']\n",
    "losses_cross = plot_dict['losses']\n",
    "losses_binary_cross = plot_dict['losses_binary']\n",
    "\n",
    "#Extract the anomalous powergroups in that lumisection\n",
    "anomalous_lumisections = plot_dict['anomalous_lumisections'] #anomalous_lumisections is a comprehensive list of anomalous lumisections, \n",
    "#Containing duplicates for lumisections with multiple anomalous powergroups\n",
    "desired_lumi_indices = np.where(anomalous_lumisections == lumi_number)[0] #np.where needs this extra [0]\n",
    "anomalous_powergroups = plot_dict['anomalous_powergroups']\n",
    "desired_anomalous_powergroups = anomalous_powergroups[desired_lumi_indices]\n",
    "\n",
    "\n",
    "#Extract the specific lumisection data\n",
    "index = lumiToIndex(lumisections, lumi_number)\n",
    "data = multi_lumi_data[index]\n",
    "prediction = mes_pred_cross[index]\n",
    "plot_losses = losses_cross[index]\n",
    "plot_losses_binary = losses_binary_cross[index]\n",
    "if verbose>0: print(f\"All Anomalous Powergroups in This Lumisection: {desired_anomalous_powergroups}\")\n",
    "\n",
    "\n",
    "print(f\"Run Number: {run_number}\\tLumi Number: {lumi_number}\")\n",
    "testingFig, testingAxes = plot_testing_plots(data, prediction, plot_losses, \n",
    "                                             plot_losses_binary, run_number, lumi_number, ring_num, \n",
    "                                             saveFig=save_fig, showFig=True)\n",
    "\n",
    "plt.show()"
   ]
  },
  {
   "cell_type": "markdown",
   "id": "bf68fde4",
   "metadata": {},
   "source": [
    "## Inspecting Specific Data Dictionaries"
   ]
  },
  {
   "cell_type": "code",
   "execution_count": 21,
   "id": "e7650905",
   "metadata": {
    "scrolled": true
   },
   "outputs": [],
   "source": [
    "%%skip True\n",
    "run_number = 393240\n",
    "verbose = 1\n",
    "show_fig = True\n",
    "save_fig = True\n",
    "save_directory = 'images'\n",
    "\n",
    "inspect_dict = next((data_dict for data_dict in data_dict_list if data_dict[\"run_number\"] == run_number), None)\n",
    "\n",
    "print(inspect_dict[\"run_number\"])\n",
    "print(inspect_dict[\"lumisections\"])\n",
    "print(inspect_dict[\"data\"].shape)\n",
    "\n",
    "#Extract the relavant information for plotting\n",
    "lumisections = inspect_dict['lumisections']\n",
    "if verbose>1: print(f\"There are {len(lumisections)} Available Lumisections:\\n{lumisections}\")\n",
    "multi_lumi_data = inspect_dict['data_cross']\n",
    "mes_pred_cross = inspect_dict['predictions_cross']\n",
    "losses_cross = inspect_dict['losses']\n",
    "losses_binary_cross = inspect_dict['losses_binary']\n",
    "\n",
    "#Extract the anomalous powergroups in that lumisection\n",
    "anomalous_lumisections = inspect_dict['anomalous_lumisections'] #anomalous_lumisections is a comprehensive list of anomalous lumisections, \n",
    "#Containing duplicates for lumisections with multiple anomalous powergroups\n",
    "\n",
    "#Save all of the images for a specific length of lumisections and for a specific run for analyzing results more in-depth\n",
    "#Useful for finding anomalies in training data that may not have been found\n",
    "lumi_start = 3083\n",
    "lumi_end = 3494\n",
    "lumi_range = np.arange(lumi_start, lumi_end+1, 1) #Set up the range of lumis to plot\n",
    "#Exclude lumis where we already know there is an anomaly and they have already been discarded from training\n",
    "excluded_lumis = np.array([168, 169, 523, 524, 525, 526, 573, 574, 575, 576, 577, 578, 853, 854, 855, 856, 210, 211, 212, 213, 214, 215, 216, 217, 218, 219, 220, 221, 222, 223, 224 ,225 ,226 ,227 ,228 ,229 ,230 ,231 ,232 ,233 ,234 ,235 ,236 ,237 ,238 ])\n",
    "# lumis_to_plot = [i for i in lumi_range if i not in excluded_lumis] #list comprehension way\n",
    "#Numpy way\n",
    "indices=np.argwhere(np.isin(lumi_range,excluded_lumis))\n",
    "lumis_to_plot=np.delete(lumi_range,indices)\n",
    "print(lumis_to_plot.shape)\n",
    "\n",
    "for idx, lumisection in enumerate(lumis_to_plot):\n",
    "    \n",
    "    #Only plot every tenth lumisection\n",
    "    if lumisection % 10 != 0:\n",
    "        continue\n",
    "\n",
    "    desired_lumi_indices = np.where(anomalous_lumisections == lumisection)[0] #np.where needs this extra [0]\n",
    "    anomalous_powergroups = inspect_dict['anomalous_powergroups']\n",
    "    desired_anomalous_powergroups = anomalous_powergroups[desired_lumi_indices]\n",
    "\n",
    "\n",
    "    #Extract the specific lumisection data\n",
    "    try:\n",
    "        index = lumiToIndex(lumisections, lumisection)\n",
    "    except:\n",
    "        print(f\"ERROR: Desired Lumisection {lumisection} not found in lumisection array!\")\n",
    "        continue\n",
    "    data = multi_lumi_data[index]\n",
    "    prediction = mes_pred_cross[index]\n",
    "    plot_losses = losses_cross[index]\n",
    "    plot_losses_binary = losses_binary_cross[index]\n",
    "    if verbose>0: print(f\"All Anomalous Powergroups in This Lumisection: {desired_anomalous_powergroups}\")\n",
    "\n",
    "\n",
    "    print(f\"Run Number: {run_number}\\tLumi Number: {lumisection}\")\n",
    "    testingFig, testingAxes = plot_testing_plots(data, prediction, plot_losses, \n",
    "                                                 plot_losses_binary, run_number, lumisection, ring_num, \n",
    "                                                 saveFig=save_fig, showFig=show_fig, directory=save_directory)\n",
    "\n",
    "    plt.show()"
   ]
  }
 ],
 "metadata": {
  "@webio": {
   "lastCommId": null,
   "lastKernelId": null
  },
  "kernelspec": {
   "display_name": "Python 3",
   "language": "python",
   "name": "python3"
  },
  "language_info": {
   "codemirror_mode": {
    "name": "ipython",
    "version": 3
   },
   "file_extension": ".py",
   "mimetype": "text/x-python",
   "name": "python",
   "nbconvert_exporter": "python",
   "pygments_lexer": "ipython3",
   "version": "3.11.9"
  }
 },
 "nbformat": 4,
 "nbformat_minor": 5
}
