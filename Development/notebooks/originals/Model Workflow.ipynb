{
 "cells": [
  {
   "cell_type": "markdown",
   "id": "b5b4e489",
   "metadata": {},
   "source": [
    "# NMF Model Workflow\n",
    "### This notebook is to represent the entire workflow of a model from:\n",
    "1. Imports\n",
    "2. Data Importing\n",
    "    * Import training data from parquet files\n",
    "    * Select desired run and lumisections\n",
    "3. Data Preprocessing\n",
    "    * Remove cross\n",
    "    * Normalization?\n",
    "4. Model Training\n",
    "    * TODO: Training loss graph?\n",
    "5. Model Testing\n",
    "    * Import testing data from parquet files\n",
    "    * Select desired run and lumisections\n",
    "    * Remove Cross\n",
    "    * Predict on testing data\n",
    "6. Data Postprocessing\n",
    "    * Add cross back\n",
    "    * Analyze the binary loss for anomalies\n",
    "    * Plot testing data, prediction, loss, and binary loss"
   ]
  },
  {
   "cell_type": "markdown",
   "id": "19f89fcd",
   "metadata": {},
   "source": [
    "# 1. <u>Imports"
   ]
  },
  {
   "cell_type": "code",
   "execution_count": 1,
   "id": "71cffdd7",
   "metadata": {
    "init_cell": true
   },
   "outputs": [
    {
     "name": "stdout",
     "output_type": "stream",
     "text": [
      "CPU times: user 1.89 s, sys: 1.08 s, total: 2.97 s\n",
      "Wall time: 4.11 s\n"
     ]
    }
   ],
   "source": [
    "%%time\n",
    "# imports\n",
    "\n",
    "import os\n",
    "import sys\n",
    "import json\n",
    "import joblib\n",
    "import importlib\n",
    "import numpy as np\n",
    "import pandas as pd\n",
    "import matplotlib.pyplot as plt\n",
    "\n",
    "# thisdir = os.getcwd()\n",
    "# topdir = os.path.abspath(os.path.join(thisdir, '../../../'))\n",
    "# sys.path.append(topdir)\n",
    "\n",
    "# import tools.iotools as iotools\n",
    "# import tools.dftools as dftools\n",
    "import plottools as plottools\n",
    "importlib.reload(plottools);\n",
    "# from tools.dataloadertools import MEDataLoader\n",
    "\n",
    "# from studies.clusters_2024.preprocessing.preprocessor import make_default_preprocessor\n",
    "# from studies.clusters_2024.nmf.modeldefs.nmf2d \n",
    "from nmf2d import NMF2D\n",
    "# from studies.clusters_2024.nmf.nmf_training import find_files, train\n",
    "\n",
    "import functions\n",
    "importlib.reload(functions);\n",
    "from functions import *\n",
    "# from functions import save_digis_png\n",
    "# from functions import extract_data_2d\n",
    "# #from functions import extract_data_2d_multi_lumis\n",
    "# from functions import plot_fpix_digi\n",
    "# from functions import remove_cross\n",
    "# from functions import add_cross\n",
    "# from pyarrow.parquet import ParquetDataset\n",
    "    \n",
    "#Used to load an extension that can skip the remaining execution of a cell. \n",
    "#Used to skip the training so we don't constantly retrain a model\n",
    "%load_ext skip_kernel_extension\n",
    "%reload_ext skip_kernel_extension\n",
    "\n",
    "optimized_powerGroupStringsList = np.array(['FPix_BmO_D3_ROG4','FPix_BmO_D2_ROG4','FPix_BmO_D1_ROG4','FPix_BmO_D3_ROG3','FPix_BmO_D2_ROG3','FPix_BmO_D1_ROG3','FPix_BmO_D3_ROG2','FPix_BmO_D2_ROG2','FPix_BmO_D1_ROG2','FPix_BmO_D3_ROG1','FPix_BmO_D2_ROG1','FPix_BmO_D1_ROG1','FPix_BmI_D3_ROG1','FPix_BmI_D2_ROG1','FPix_BmI_D1_ROG1','FPix_BmI_D3_ROG2','FPix_BmI_D2_ROG2','FPix_BmI_D1_ROG2','FPix_BmI_D3_ROG3','FPix_BmI_D2_ROG3','FPix_BmI_D1_ROG3','FPix_BmI_D3_ROG4','FPix_BmI_D2_ROG4','FPix_BmI_D1_ROG4','FPix_BpO_D1_ROG4','FPix_BpO_D2_ROG4','FPix_BpO_D3_ROG4','FPix_BpO_D1_ROG3','FPix_BpO_D2_ROG3','FPix_BpO_D3_ROG3','FPix_BpO_D1_ROG2','FPix_BpO_D2_ROG2','FPix_BpO_D3_ROG2','FPix_BpO_D1_ROG1','FPix_BpO_D2_ROG1','FPix_BpO_D3_ROG1','FPix_BpI_D1_ROG1','FPix_BpI_D2_ROG1','FPix_BpI_D3_ROG1','FPix_BpI_D1_ROG2','FPix_BpI_D2_ROG2','FPix_BpI_D3_ROG2','FPix_BpI_D1_ROG3','FPix_BpI_D2_ROG3','FPix_BpI_D3_ROG3','FPix_BpI_D1_ROG4','FPix_BpI_D2_ROG4','FPix_BpI_D3_ROG4'])\n",
    "#A list of all of the quarters of the detector\n",
    "QUARTERS = np.array([['FPix_BmI_D3_ROG1','FPix_BmI_D3_ROG2','FPix_BmI_D3_ROG3','FPix_BmI_D3_ROG4','FPix_BmI_D2_ROG1','FPix_BmI_D2_ROG2','FPix_BmI_D2_ROG3','FPix_BmI_D2_ROG4','FPix_BmI_D1_ROG1','FPix_BmI_D1_ROG2','FPix_BmI_D1_ROG3','FPix_BmI_D1_ROG4'], ['FPix_BmO_D3_ROG1','FPix_BmO_D3_ROG2','FPix_BmO_D3_ROG3','FPix_BmO_D3_ROG4','FPix_BmO_D2_ROG1','FPix_BmO_D2_ROG2','FPix_BmO_D2_ROG3','FPix_BmO_D2_ROG4','FPix_BmO_D1_ROG1','FPix_BmO_D1_ROG2','FPix_BmO_D1_ROG3','FPix_BmO_D1_ROG4'], ['FPix_BpI_D1_ROG1','FPix_BpI_D1_ROG2','FPix_BpI_D1_ROG3','FPix_BpI_D1_ROG4','FPix_BpI_D2_ROG1','FPix_BpI_D2_ROG2','FPix_BpI_D2_ROG3','FPix_BpI_D2_ROG4','FPix_BpI_D3_ROG1','FPix_BpI_D3_ROG2','FPix_BpI_D3_ROG3','FPix_BpI_D3_ROG4'], ['FPix_BpO_D1_ROG1','FPix_BpO_D1_ROG2','FPix_BpO_D1_ROG3','FPix_BpO_D1_ROG4','FPix_BpO_D2_ROG1','FPix_BpO_D2_ROG2','FPix_BpO_D2_ROG3','FPix_BpO_D2_ROG4','FPix_BpO_D3_ROG1','FPix_BpO_D3_ROG2','FPix_BpO_D3_ROG3','FPix_BpO_D3_ROG4']])"
   ]
  },
  {
   "cell_type": "markdown",
   "id": "ef0da8fe",
   "metadata": {},
   "source": [
    "# 2. <ins>Data Importing"
   ]
  },
  {
   "cell_type": "markdown",
   "id": "41376d93",
   "metadata": {},
   "source": [
    "### Set path to parquet file"
   ]
  },
  {
   "cell_type": "code",
   "execution_count": 2,
   "id": "9440ab32",
   "metadata": {},
   "outputs": [],
   "source": [
    "# set path to files\n",
    "ERA = \"C\"\n",
    "VERSION = 2\n",
    "PART = 1\n",
    "YEAR = 2025\n",
    "\n",
    "NUM_COMPONENTS = 5\n",
    "\n",
    "file = f'/eos/user/a/alaperto/TkDQM/Devel/NMFolder/data/ZeroBias-Run{YEAR}{ERA}-PromptReco-v{VERSION}-DQMIO-PixelPhase1-Phase1_MechanicalView-PXForward-clusters_per_SignedDiskCoord_per_SignedBladePanelCoord_PXRing_1.parquet'\n",
    "oms_json = f'omsdata/omsdata_Run{YEAR}{ERA}-v{VERSION}.json'\n",
    "ring_num = int(file[-9]) #The -9th character is ALWAYS the ring number for our data\n",
    "era = file[63] #The 63rd character is ALWAYS the era character for our data"
   ]
  },
  {
   "cell_type": "markdown",
   "id": "a5eaa413",
   "metadata": {},
   "source": [
    "### Import desired run and lumisections"
   ]
  },
  {
   "cell_type": "code",
   "execution_count": 3,
   "id": "0daed1de",
   "metadata": {},
   "outputs": [
    {
     "name": "stdout",
     "output_type": "stream",
     "text": [
      "Multi Lumi Data WITH Cross Shape:  (900, 92, 56) \n",
      "\n",
      "Extracted Lumisections:  [ 63  64  65  66  67  68  69  70  71  72  73  74  75  76  77  78  79  80\n",
      "  81  82  83  84  85  86  87  88  89  90  91  92  93  94  95  96  97  98\n",
      "  99 100 101 102 103 104 105 106 107 108 109 110 111 112 113 114 115 116\n",
      " 117 118 119 120 121 122 123 124 125 126 127 128 129 130 131 132 133 134\n",
      " 135 136 137 138 139 140 141 142 143 144 145 146 147 148 149 150 151 152\n",
      " 153 154 155 156 157 158 159 160 161 162 163 164 165 166 167 168 169 170\n",
      " 171 172 173 174 175 176 177 178 179 180 181 182 183 184 185 186 187 188\n",
      " 189 190 191 192 193 194 195 196 197 198 199 200 201 202 203 204 205 206\n",
      " 207 208 209 210 211 212 213 214 215 216 217 218 219 220 221 222 223 224\n",
      " 225 226 227 228 229 230 231 232 233 234 235 236 237 238 239 240 241 242\n",
      " 243 244 245 246 247 248 249 250 251 252 253 254 255 256 257 258 259 260\n",
      " 261 262 263 264 265 266 267 268 269 270 271 272 273 274 275 276 277 278\n",
      " 279 280 281 282 283 284 285 286 287 288 289 290 291 292 293 294 295 296\n",
      " 297 298 299 300 301 302 303 304 305 306 307 308 309 310 311 312 313 314\n",
      " 315 316 317 318 319 320 321 322 323 324 325 326 327 328 329 330 331 332\n",
      " 333 334 335 336 337 338 339 340 341 342 343 344 345 346 347 348 349 350\n",
      " 351 352 353 354 355 356 357 358 359 360 361 362 363 364 365 366 367 368\n",
      " 369 370 371 372 373 374 375 376 377 378 379 380 381 382 383 384 385 386\n",
      " 387 388 389 390 391 392 393 394 395 396 397 398 399 400 401 402 403 404\n",
      " 405 406 407 408 409 410 411 412 413 414 415 416 417 418 419 420 421 422\n",
      " 423 424 425 426 427 428 429 430 431 432 433 434 435 436 437 438 439 440\n",
      " 441 442 443 444 445 446 447 448 449 450 451 452 453 454 455 456 457 458\n",
      " 459 460 461 462 463 464 465 466 467 468 469 470 471 472 473 474 475 476\n",
      " 477 478 479 480 481 482 483 484 485 486 487 488 489 490 491 492 493 494\n",
      " 495 496 497 498 499 500 501 502 503 504 505 506 507 508 509 510 511 512\n",
      " 513 514 515 516 517 518 519 520 521 522 523 524 525 526 527 528 529 530\n",
      " 531 532 533 534 535 536 537 538 539 540 541 542 543 544 545 546 547 548\n",
      " 549 550 551 552 553 554 555 556 557 558 559 560 561 562 563 564 565 566\n",
      " 567 568 569 570 571 572 573 574 575 576 577 578 579 580 581 582 583 584\n",
      " 585 586 587 588 589 590 591 592 593 594 595 596 597 598 599 600 601 602\n",
      " 603 604 605 606 607 608 609 610 611 612 613 614 615 616 617 618 619 620\n",
      " 621 622 623 624 625 626 627 628 629 630 631 632 633 634 635 636 637 638\n",
      " 639 640 641 642 643 644 645 646 647 648 649 650 651 652 653 654 655 656\n",
      " 657 658 659 660 661 662 663 664 665 666 667 668 669 670 671 672 673 674\n",
      " 675 676 677 678 679 680 681 682 683 684 685 686 687 688 689 690 691 692\n",
      " 693 694 695 696 697 698 699 700 701 702 703 704 705 706 707 708 709 710\n",
      " 711 712 713 714 715 716 717 718 719 720 721 722 723 724 725 726 727 728\n",
      " 729 730 731 732 733 734 735 736 737 738 739 740 741 742 743 744 745 746\n",
      " 747 748 749 750 751 752 753 754 755 756 757 758 759 760 761 762 763 764\n",
      " 765 766 767 768 769 770 771 772 773 774 775 776 777 778 779 780 781 782\n",
      " 783 784 785 786 787 788 789 790 791 792 793 794 795 796 797 798 799 800\n",
      " 801 802 803 804 805 806 807 808 809 810 811 812 813 814 815 816 817 818\n",
      " 819 820 821 822 823 824 825 826 827 828 829 830 831 832 833 834 835 836\n",
      " 837 838 839 840 841 842 843 844 845 846 847 848 849 850 851 852 853 854\n",
      " 855 856 857 858 859 860 861 862 863 864 865 866 867 868 869 870 871 872\n",
      " 873 874 875 876 877 878 879 880 881 882 883 884 885 886 887 888 889 890\n",
      " 891 892 893 894 895 896 897 898 899 900 901 902 903 904 905 906 907 908\n",
      " 909 910 911 912 913 914 915 916 917 918 919 920 921 922 923 924 925 926\n",
      " 927 928 929 930 931 932 933 934 935 936 937 938 939 940 941 942 943 944\n",
      " 945 946 947 948 949 950 951 952 953 954 955 956 957 958 959 960 961 962] \n",
      "\n",
      "CPU times: user 3.61 s, sys: 2.99 s, total: 6.6 s\n",
      "Wall time: 6.61 s\n"
     ]
    }
   ],
   "source": [
    "%%time\n",
    "\n",
    "run_number = 393240\n",
    "lumi_start = 39\n",
    "lumi_end = 1155\n",
    "#Exclude lumisections for training in the second part of 2024 Era F\n",
    "# extra_filters = [('ls_number', '!=', 1348), ('ls_number', '!=', 1349), ('ls_number', '!=', 1350)]\n",
    "\n",
    "#Exclude lumisections for training in the first part of 2025 Era C part 1. Trained on run 392642\n",
    "# extra_filters = [('ls_number', '!=', 168), ('ls_number', '!=', 169), ('ls_number', '!=', 170), ('ls_number', '!=', 523), ('ls_number', '!=', 524), \n",
    "#                  ('ls_number', '!=', 525), ('ls_number', '!=', 526), ('ls_number', '!=', 573), ('ls_number', '!=', 574), ('ls_number', '!=', 575), \n",
    "#                  ('ls_number', '!=', 576), ('ls_number', '!=', 577), ('ls_number', '!=', 578), ('ls_number', '!=', 853), ('ls_number', '!=', 854), \n",
    "#                  ('ls_number', '!=', 855), ('ls_number', '!=', 856), ('ls_number', '!=', 1775),('ls_number', '!=', 1776),('ls_number', '!=', 1777), \n",
    "#                  ('ls_number', '!=', 1778), ('ls_number', '!=', 1779), #Below is an exclusion for an anomaly in FPix_BmI_D2_ROG1\n",
    "#                  ('ls_number', '!=', 210), ('ls_number', '!=', 211), ('ls_number', '!=', 212), ('ls_number', '!=', 213), ('ls_number', '!=', 214), ('ls_number', '!=', 215), ('ls_number', '!=', 216), ('ls_number', '!=', 217), ('ls_number', '!=', 218), ('ls_number', '!=', 219), ('ls_number', '!=', 220), ('ls_number', '!=', 221), ('ls_number', '!=', 222), ('ls_number', '!=', 223), ('ls_number', '!=', 224), ('ls_number', '!=', 225), ('ls_number', '!=', 226), ('ls_number', '!=', 227), ('ls_number', '!=', 228), ('ls_number', '!=', 229), ('ls_number', '!=', 230), ('ls_number', '!=', 231), ('ls_number', '!=', 232), ('ls_number', '!=', 233), ('ls_number', '!=', 234), ('ls_number', '!=', 235), ('ls_number', '!=', 236), ('ls_number', '!=', 237), ('ls_number', '!=', 238), \n",
    "#                  ('ls_number', '<=', 984)] #Run ends at LS 1897 with no extra anomalies, but we only want 900LS total\n",
    "\n",
    "#Exclude lumisections for training a third model in the first part of 2025 Era C part 1. Trained on run 392296\n",
    "# extra_filters = [('ls_number', '!=', 710)]\n",
    "\n",
    "# Exclude lumisections for training in the second part of 2025 Era C part 2. Training for run 392710\n",
    "# extra_filters = [('ls_number', '!=', 329), ('ls_number', '!=', 330), ('ls_number', '!=', 331), ('ls_number', '!=', 332), ('ls_number', '!=', 904), \n",
    "#                  ('ls_number', '!=', 905), ('ls_number', '!=', 906), ('ls_number', '!=', 907), ('ls_number', '!=', 908), ('ls_number', '!=', 1086), \n",
    "#                  ('ls_number', '!=', 1087), ('ls_number', '!=', 1088), ('ls_number', '!=', 1089), ('ls_number', '!=', 1090), ('ls_number', '!=', 1091), \n",
    "#                  ('ls_number', '!=', 1346), ('ls_number', '!=', 1347), ('ls_number', '!=', 1348), ('ls_number', '!=', 1683), ('ls_number', '!=', 1684), \n",
    "#                  ('ls_number', '!=', 1685), ('ls_number', '!=', 1686),('ls_number', '!=', 1687), ('ls_number', '!=', 1688),\n",
    "#                  ('ls_number', '<=', 950)] #Run ends at LS 1955 with no extra anomalies, but we only want 900LS total\n",
    "\n",
    "#Exclude lumisections for training a third model in the second part of 2025 Era C part 2. Training for run 392925\n",
    "#First AND seconds training had some weird anomalies in powergroup FPix_BpI_D3_ROG1 and FPix_BmI_D3_ROG2 respectively\n",
    "#Issue in the second chosen training Run from LS484 to LS699, inclusive\n",
    "extra_filters = [('ls_number', '!=', 697), ('ls_number', '!=', 698), ('ls_number', '!=', 699), \n",
    "                 ('ls_number', '<=', 1160), ('ls_number', '!=', 429), ('ls_number', '!=', 430), ('ls_number', '!=', 431), ('ls_number', '!=', 432), ('ls_number', '!=', 433), #Run ends at LS 1921 with no extra anomalies, but we only want 900LS total\n",
    "                ('ls_number', '!=', 483), ('ls_number', '!=', 484), ('ls_number', '!=', 485), ('ls_number', '!=', 486), ('ls_number', '!=', 487), ('ls_number', '!=', 488), ('ls_number', '!=', 489), ('ls_number', '!=', 490), ('ls_number', '!=', 491), ('ls_number', '!=', 492), ('ls_number', '!=', 493), ('ls_number', '!=', 494), ('ls_number', '!=', 495), ('ls_number', '!=', 496), ('ls_number', '!=', 497), ('ls_number', '!=', 498), ('ls_number', '!=', 499), ('ls_number', '!=', 500), ('ls_number', '!=', 501), ('ls_number', '!=', 502), ('ls_number', '!=', 503), ('ls_number', '!=', 504), ('ls_number', '!=', 505), ('ls_number', '!=', 506), ('ls_number', '!=', 507), ('ls_number', '!=', 508), ('ls_number', '!=', 509), ('ls_number', '!=', 510), ('ls_number', '!=', 511), ('ls_number', '!=', 512), ('ls_number', '!=', 513), ('ls_number', '!=', 514), ('ls_number', '!=', 515), ('ls_number', '!=', 516), ('ls_number', '!=', 517), ('ls_number', '!=', 518), ('ls_number', '!=', 519), ('ls_number', '!=', 520), ('ls_number', '!=', 521), ('ls_number', '!=', 522), ('ls_number', '!=', 523), ('ls_number', '!=', 524), ('ls_number', '!=', 525), ('ls_number', '!=', 526), ('ls_number', '!=', 527), ('ls_number', '!=', 528), ('ls_number', '!=', 529), ('ls_number', '!=', 530), ('ls_number', '!=', 531), ('ls_number', '!=', 532), ('ls_number', '!=', 533), ('ls_number', '!=', 534), ('ls_number', '!=', 535), ('ls_number', '!=', 536), ('ls_number', '!=', 537), ('ls_number', '!=', 538), ('ls_number', '!=', 539), ('ls_number', '!=', 540), ('ls_number', '!=', 541), ('ls_number', '!=', 542), ('ls_number', '!=', 543), ('ls_number', '!=', 544), ('ls_number', '!=', 545), ('ls_number', '!=', 546), ('ls_number', '!=', 547), ('ls_number', '!=', 548), ('ls_number', '!=', 549), ('ls_number', '!=', 550), ('ls_number', '!=', 551), ('ls_number', '!=', 552), ('ls_number', '!=', 553), ('ls_number', '!=', 554), ('ls_number', '!=', 555), ('ls_number', '!=', 556), ('ls_number', '!=', 557), ('ls_number', '!=', 558), ('ls_number', '!=', 559), ('ls_number', '!=', 560), ('ls_number', '!=', 561), ('ls_number', '!=', 562), ('ls_number', '!=', 563), ('ls_number', '!=', 564), ('ls_number', '!=', 565), ('ls_number', '!=', 566), ('ls_number', '!=', 567), ('ls_number', '!=', 568), ('ls_number', '!=', 569), ('ls_number', '!=', 570), ('ls_number', '!=', 571), ('ls_number', '!=', 572), ('ls_number', '!=', 573), ('ls_number', '!=', 574), ('ls_number', '!=', 575), ('ls_number', '!=', 576), ('ls_number', '!=', 577), ('ls_number', '!=', 578), ('ls_number', '!=', 579), ('ls_number', '!=', 580), ('ls_number', '!=', 581), ('ls_number', '!=', 582), ('ls_number', '!=', 583), ('ls_number', '!=', 584), ('ls_number', '!=', 585), ('ls_number', '!=', 586), ('ls_number', '!=', 587), ('ls_number', '!=', 588), ('ls_number', '!=', 589), ('ls_number', '!=', 590), ('ls_number', '!=', 591), ('ls_number', '!=', 592), ('ls_number', '!=', 593), ('ls_number', '!=', 594), ('ls_number', '!=', 595), ('ls_number', '!=', 596), ('ls_number', '!=', 597), ('ls_number', '!=', 598), ('ls_number', '!=', 599), ('ls_number', '!=', 600), ('ls_number', '!=', 601), ('ls_number', '!=', 602), ('ls_number', '!=', 603), ('ls_number', '!=', 604), ('ls_number', '!=', 605), ('ls_number', '!=', 606), ('ls_number', '!=', 607), ('ls_number', '!=', 608), ('ls_number', '!=', 609), ('ls_number', '!=', 610), ('ls_number', '!=', 611), ('ls_number', '!=', 612), ('ls_number', '!=', 613), ('ls_number', '!=', 614), ('ls_number', '!=', 615), ('ls_number', '!=', 616), ('ls_number', '!=', 617), ('ls_number', '!=', 618), ('ls_number', '!=', 619), ('ls_number', '!=', 620), ('ls_number', '!=', 621), ('ls_number', '!=', 622), ('ls_number', '!=', 623), ('ls_number', '!=', 624), ('ls_number', '!=', 625), ('ls_number', '!=', 626), ('ls_number', '!=', 627), ('ls_number', '!=', 628), ('ls_number', '!=', 629), ('ls_number', '!=', 630), ('ls_number', '!=', 631), ('ls_number', '!=', 632), ('ls_number', '!=', 633), ('ls_number', '!=', 634), ('ls_number', '!=', 635), ('ls_number', '!=', 636), ('ls_number', '!=', 637), ('ls_number', '!=', 638), ('ls_number', '!=', 639), ('ls_number', '!=', 640), ('ls_number', '!=', 641), ('ls_number', '!=', 642), ('ls_number', '!=', 643), ('ls_number', '!=', 644), ('ls_number', '!=', 645), ('ls_number', '!=', 646), ('ls_number', '!=', 647), ('ls_number', '!=', 648), ('ls_number', '!=', 649), ('ls_number', '!=', 650), ('ls_number', '!=', 651), ('ls_number', '!=', 652), ('ls_number', '!=', 653), ('ls_number', '!=', 654), ('ls_number', '!=', 655), ('ls_number', '!=', 656), ('ls_number', '!=', 657), ('ls_number', '!=', 658), ('ls_number', '!=', 659), ('ls_number', '!=', 660), ('ls_number', '!=', 661), ('ls_number', '!=', 662), ('ls_number', '!=', 663), ('ls_number', '!=', 664), ('ls_number', '!=', 665), ('ls_number', '!=', 666), ('ls_number', '!=', 667), ('ls_number', '!=', 668), ('ls_number', '!=', 669), ('ls_number', '!=', 670), ('ls_number', '!=', 671), ('ls_number', '!=', 672), ('ls_number', '!=', 673), ('ls_number', '!=', 674), ('ls_number', '!=', 675), ('ls_number', '!=', 676), ('ls_number', '!=', 677), ('ls_number', '!=', 678), ('ls_number', '!=', 679), ('ls_number', '!=', 680), ('ls_number', '!=', 681), ('ls_number', '!=', 682), ('ls_number', '!=', 683), ('ls_number', '!=', 684), ('ls_number', '!=', 685), ('ls_number', '!=', 686), ('ls_number', '!=', 687), ('ls_number', '!=', 688), ('ls_number', '!=', 689), ('ls_number', '!=', 690), ('ls_number', '!=', 691), ('ls_number', '!=', 692), ('ls_number', '!=', 693), ('ls_number', '!=', 694), ('ls_number', '!=', 695), ('ls_number', '!=', 696), ('ls_number', '!=', 697), ('ls_number', '!=', 698), ('ls_number', '!=', 699) \n",
    "]\n",
    "\n",
    "#Exclude lumisections for training in the first part of 2025 Era C version 2. Trained on Run 393240\n",
    "extra_filters = [('ls_number', '!=', 3533), ('ls_number', '!=', 3534), ('ls_number', '!=', 3535), \n",
    "                 ('ls_number', '<=', 962)] #Run ends at LS 1921 with no extra anomalies, but we only want 900LS total\n",
    "\n",
    "# multi_lumi_data, lumisections =  extract_data_2d_multi_lumis(file, run_number, lumi_start, lumi_end)\n",
    "#Extract all of the lumisections from this run, and optionally exclude the lumisection with an anomaly\n",
    "multi_lumi_data, lumisections = extract_data_2d_all_lumis(file, run_number, oms_json, extra_filters=extra_filters)\n",
    "print(\"Multi Lumi Data WITH Cross Shape: \", multi_lumi_data.shape, \"\\n\")\n",
    "print(\"Extracted Lumisections: \", lumisections, \"\\n\")"
   ]
  },
  {
   "cell_type": "markdown",
   "id": "00000701",
   "metadata": {},
   "source": [
    "### Import the Whole Era if Desired"
   ]
  },
  {
   "cell_type": "code",
   "execution_count": 3,
   "id": "c95ee1ca",
   "metadata": {},
   "outputs": [
    {
     "name": "stdout",
     "output_type": "stream",
     "text": [
      "There are 31 Runs and 21618 Lumisections that Pass All DCS Flags: \n",
      " [393111 393125 393126 393127 393128 393129 393147 393168 393169 393170\n",
      " 393171 393240 393273 393274 393275 393276 393331 393346 393347 393376\n",
      " 393377 393378 393445 393446 393447 393448 393461 393512 393513 393514\n",
      " 393516]\n",
      "CPU times: user 6.09 s, sys: 4.47 s, total: 10.6 s\n",
      "Wall time: 11.6 s\n"
     ]
    }
   ],
   "source": [
    "%%time\n",
    "multi_lumi_data, all_runs, lumisections, df = extract_data_whole_era(file, oms_json, extra_filters=[])\n",
    "del df\n",
    "all_runs, indices = np.unique(all_runs, return_index=True)\n",
    "indices = indices[1:] #The first index in indices is always 0, since the first number is always unique, so we discard that. \n",
    "print(f\"There are {len(all_runs)} Runs and {len(lumisections)} Lumisections that Pass All DCS Flags: \\n\", all_runs)"
   ]
  },
  {
   "cell_type": "markdown",
   "id": "46582ae1",
   "metadata": {},
   "source": [
    "#### Inspect Certain Lumisections"
   ]
  },
  {
   "cell_type": "code",
   "execution_count": 5,
   "id": "c81c8b57",
   "metadata": {
    "scrolled": false
   },
   "outputs": [
    {
     "name": "stdout",
     "output_type": "stream",
     "text": [
      "Index of Lumisection 709:  708\n"
     ]
    },
    {
     "data": {
      "image/png": "[encoded data removed]",
      "text/plain": [
       "<Figure size 360x576 with 2 Axes>"
      ]
     },
     "metadata": {
      "needs_background": "light"
     },
     "output_type": "display_data"
    }
   ],
   "source": [
    "desired_lumi = 709\n",
    "lumi_index = lumiToIndex(lumisections, desired_lumi)\n",
    "\n",
    "print(\"Index of Lumisection {}: \".format(desired_lumi), lumi_index)\n",
    "\n",
    "save_digis_png(multi_lumi_data[lumi_index], run_number, desired_lumi, ring_num)"
   ]
  },
  {
   "cell_type": "markdown",
   "id": "895422b1",
   "metadata": {},
   "source": [
    "# 3. <ins>Data Preprocessing\n",
    "### Remove Cross"
   ]
  },
  {
   "cell_type": "code",
   "execution_count": 4,
   "id": "3eb2b26c",
   "metadata": {},
   "outputs": [
    {
     "name": "stdout",
     "output_type": "stream",
     "text": [
      "Multi Lumi Data WITHOUT Cross Shape:  (900, 88, 48) \n",
      "\n",
      "CPU times: user 20.4 ms, sys: 21 ms, total: 41.4 ms\n",
      "Wall time: 40.6 ms\n"
     ]
    }
   ],
   "source": [
    "%%time\n",
    "multi_lumi_data_no_cross = remove_cross(multi_lumi_data)\n",
    "print(\"Multi Lumi Data WITHOUT Cross Shape: \", multi_lumi_data_no_cross.shape, \"\\n\")"
   ]
  },
  {
   "cell_type": "markdown",
   "id": "d3fcad1b",
   "metadata": {},
   "source": [
    "# 4. <ins>Model Training"
   ]
  },
  {
   "cell_type": "markdown",
   "id": "9e8a4631",
   "metadata": {},
   "source": [
    "### Train the Model and Plot Components"
   ]
  },
  {
   "cell_type": "code",
   "execution_count": 5,
   "id": "89a37fe2",
   "metadata": {
    "scrolled": true
   },
   "outputs": [
    {
     "name": "stdout",
     "output_type": "stream",
     "text": [
      "Now processing batch 1 / 30...\n",
      "Now processing batch 6 / 30...\n",
      "Now processing batch 11 / 30...\n",
      "Now processing batch 16 / 30...\n",
      "Now processing batch 21 / 30...\n",
      "Now processing batch 26 / 30...\n",
      "Model Shape:  [88, 48]\n"
     ]
    },
    {
     "data": {
      "image/png": "[encoded data removed]",
      "text/plain": [
       "<Figure size 432x288 with 2 Axes>"
      ]
     },
     "metadata": {
      "needs_background": "light"
     },
     "output_type": "display_data"
    },
    {
     "data": {
      "image/png": "[encoded data removed]",
      "text/plain": [
       "<Figure size 432x288 with 2 Axes>"
      ]
     },
     "metadata": {
      "needs_background": "light"
     },
     "output_type": "display_data"
    },
    {
     "data": {
      "image/png": "[encoded data removed]",
      "text/plain": [
       "<Figure size 432x288 with 2 Axes>"
      ]
     },
     "metadata": {
      "needs_background": "light"
     },
     "output_type": "display_data"
    },
    {
     "data": {
      "image/png": "[encoded data removed]",
      "text/plain": [
       "<Figure size 432x288 with 2 Axes>"
      ]
     },
     "metadata": {
      "needs_background": "light"
     },
     "output_type": "display_data"
    },
    {
     "data": {
      "image/png": "[encoded data removed]",
      "text/plain": [
       "<Figure size 432x288 with 2 Axes>"
      ]
     },
     "metadata": {
      "needs_background": "light"
     },
     "output_type": "display_data"
    },
    {
     "name": "stdout",
     "output_type": "stream",
     "text": [
      "CPU times: user 13.6 s, sys: 18.5 s, total: 32.1 s\n",
      "Wall time: 13.9 s\n"
     ]
    }
   ],
   "source": [
    "%%time\n",
    "%%skip False\n",
    "#Set True if you'd like to avoid retraining the model. \n",
    "\n",
    "nmfResult = None\n",
    "batch_size = 3000\n",
    "num_components = NUM_COMPONENTS\n",
    "\n",
    "do_plot_components = True\n",
    "\n",
    "# print(f'Now running on era {era}...')\n",
    "# nrows = sum(dataloaders[era].nrows)\n",
    "# nbatches = min(30, max(1, 3*int(nrows/batch_size)))\n",
    "nbatches = 30\n",
    "# print(f'Will train on {nbatches} batches of size {batch_size}.')\n",
    "\n",
    "# make the NMF model for this era\n",
    "nmf = NMF2D(n_components=num_components, forget_factor=1, batch_size=batch_size, verbose=True,\n",
    "            tol=0.0, max_no_improvement=100, max_iter=1000,\n",
    "            alpha_H=0.1)\n",
    "\n",
    "# training settings\n",
    "verbose = True\n",
    "min_entries = 0.5e6\n",
    "min_entries = None\n",
    "# dataloader = dataloaders[era]\n",
    "# preprocessor = preprocessors[era]\n",
    "\n",
    "# loop over random batches\n",
    "for batchidx in range(nbatches):\n",
    "\n",
    "    # load batch\n",
    "    if verbose and batchidx % 5 == 0: print(f'Now processing batch {batchidx+1} / {nbatches}...')\n",
    "#     df = dataloader.read_random_batch(batch_size=batch_size, mode='subbatched', num_subbatches=100)\n",
    "#     ndf = len(df)\n",
    "\n",
    "    # filtering\n",
    "#     if min_entries is not None: df = df[df['entries'] > min_entries]\n",
    "#     if verbose: print(f'  Found {len(df)} / {ndf} instances passing filters.')\n",
    "#     if len(df)==0: continue\n",
    "\n",
    "    # do preprocessing\n",
    "#     if preprocessor is not None:\n",
    "#         if verbose: print('  Preprocessing...')\n",
    "#         mes_preprocessed = preprocessor.preprocess(df)\n",
    "#     else:\n",
    "#         mes_preprocessed, _, _ = dftools.get_mes(df,\n",
    "#                                    xbinscolumn='x_bin', ybinscolumn='y_bin',\n",
    "#                                    runcolumn='run_number', lumicolumn='ls_number')\n",
    "\n",
    "    # experimental: set zero-occupancy to 1 (average expected value after preprocessing)\n",
    "#     mes_preprocessed[mes_preprocessed==0] = 1\n",
    "\n",
    "    # fit NMF\n",
    "    nmf.fit(multi_lumi_data_no_cross)\n",
    "    nmfResult = nmf\n",
    "\n",
    "print(\"Model Shape: \", nmfResult.xshape)\n",
    "    \n",
    "# plot components\n",
    "if do_plot_components:\n",
    "    C = nmf.components\n",
    "    C_with_cross = add_cross(C)\n",
    "    for idx in range(len(C)):\n",
    "        fig, ax = plottools.plot_hist_2d(C_with_cross[idx],\n",
    "               title=f'Component {idx+1}', titlesize=15,\n",
    "               xaxtitle=None, xaxtitlesize=None, yaxtitle=None, yaxtitlesize=None,\n",
    "               ticklabelsize=12, colorticklabelsize=12, extent=None, aspect=None,\n",
    "               docolorbar=True, caxtitle='Number of clusters\\n(normalized)',\n",
    "               caxrange=(1e-6, 2),\n",
    "               caxtitlesize=15, caxtitleoffset=35,\n",
    "               origin='lower')\n",
    "        #title = me.split('-')[-1]\n",
    "        #title = \"bleg\"\n",
    "        #ax.text(0.01, 1.3, title, fontsize=15, transform=ax.transAxes)\n",
    "    plt.show()\n",
    "    plt.close()"
   ]
  },
  {
   "cell_type": "markdown",
   "id": "4e8e085c",
   "metadata": {},
   "source": [
    "### Save the Model / Load the Model"
   ]
  },
  {
   "cell_type": "code",
   "execution_count": 6,
   "id": "8d412044",
   "metadata": {
    "scrolled": true
   },
   "outputs": [
    {
     "name": "stdout",
     "output_type": "stream",
     "text": [
      "Saved Model at models/PXRing_1/nmf_model_era2025C_v2_p1_5_Components.pkl\n"
     ]
    }
   ],
   "source": [
    "# save the models\n",
    "\n",
    "dosave = False\n",
    "do_plot_components = True\n",
    "num_components = NUM_COMPONENTS\n",
    "model_name = f'nmf_model_era{YEAR}{ERA}_v{VERSION}_p{PART}_{num_components}_Components.pkl'\n",
    "\n",
    "if dosave:#Either save the new model\n",
    "    outputdir = f'models/PXRing_{ring_num}'\n",
    "    if not os.path.exists(outputdir): os.makedirs(outputdir)\n",
    "\n",
    "    outputfile = os.path.join(outputdir, model_name)\n",
    "    joblib.dump(nmfResult, outputfile)\n",
    "    print(f\"Saved Model at {outputfile}\")\n",
    "else:#or load nmf an already produced one\n",
    "    #Check if a model with the version number exists\n",
    "    nmf_file = f'models/PXRing_1/nmf_model_era{ERA}_p{VERSION}.pkl'\n",
    "    #nmf_file = f'models/PXRing_1/nmf_model_era2025C_v1_p2_5_Components_Attempt_4.pkl'\n",
    "    if os.path.exists(nmf_file):\n",
    "        pass\n",
    "    elif os.path.exists(f'models/PXRing_1/nmf_model_era{ERA}.pkl'): #if not, use the one without the version number\n",
    "        nmf_file = f'models/PXRing_1/nmf_model_era{ERA}.pkl'\n",
    "    else: #if not, use the one without the version number\n",
    "        nmf_file = f'models/PXRing_1/nmf_model_eraC.pkl'\n",
    "    nmf = joblib.load(nmf_file)\n",
    "    \n",
    "    print(f\"Loaded Model {nmf_file}\")\n",
    "    print(f\"Model Shape: {nmf.xshape}\")\n",
    "    \n",
    "    # plot components\n",
    "    if do_plot_components:\n",
    "        C = nmf.components\n",
    "        C_with_cross = add_cross(C)\n",
    "        for idx in range(len(C)):\n",
    "            fig, ax = plottools.plot_hist_2d(C_with_cross[idx],\n",
    "                   title=f'Component {idx+1}', titlesize=15,\n",
    "                   xaxtitle=None, xaxtitlesize=None, yaxtitle=None, yaxtitlesize=None,\n",
    "                   ticklabelsize=12, colorticklabelsize=12, extent=None, aspect=None,\n",
    "                   docolorbar=True, caxtitle='Number of clustes\\n(normalized)',\n",
    "                   caxrange=(1e-6, 2),\n",
    "                   caxtitlesize=15, caxtitleoffset=35,\n",
    "                   origin='lower')\n",
    "            #title = me.split('-')[-1]\n",
    "            #title = \"bleg\"\n",
    "            #ax.text(0.01, 1.3, title, fontsize=15, transform=ax.transAxes)\n",
    "        plt.show()\n",
    "        plt.close()"
   ]
  },
  {
   "cell_type": "markdown",
   "id": "976b7a9c",
   "metadata": {},
   "source": [
    "#### Make a GIF of all of the Components"
   ]
  },
  {
   "cell_type": "code",
   "execution_count": 7,
   "id": "f7712d1f",
   "metadata": {
    "scrolled": true
   },
   "outputs": [
    {
     "name": "stdout",
     "output_type": "stream",
     "text": [
      "Finished Gif at models/PXRing_1/nmf_model_era2025C_v2_p1_5_Components/nmf_model_era2025C_v2_p1_5_Components.gif\n"
     ]
    }
   ],
   "source": [
    "titles = ['Component {}'.format(i+1) for i in range(len(C_with_cross))]\n",
    "\n",
    "#Save the gif to the directory of that model\n",
    "directory = f\"models/PXRing_1/{model_name[:-4]}\"\n",
    "#If we don't already have a prediction directory then make it\n",
    "if not os.path.exists(directory): os.makedirs(directory)\n",
    "filepath = directory + f'/{model_name[:-4]}.gif'\n",
    "\n",
    "plottools.plot_hists_2d_gif(C_with_cross, \n",
    "                       titles=titles,\n",
    "                       duration=1500, figname=filepath,\n",
    "                       mode='imageio', \n",
    "                        titlesize=15, xaxtitle=None, xaxtitlesize=None, yaxtitle=None, yaxtitlesize=None, \n",
    "                        ticklabelsize=12, colorticklabelsize=12, extent=None, aspect=None,\n",
    "                        docolorbar=True, caxtitle='Number of clustes\\n(normalized)',\n",
    "                        caxrange=(1e-6, 2),\n",
    "                        caxtitlesize=15, caxtitleoffset=35, origin='lower', dpi=144)\n",
    "print(f\"Finished Gif at {filepath}\")"
   ]
  },
  {
   "cell_type": "markdown",
   "id": "17596f59",
   "metadata": {},
   "source": [
    "# 5. <ins>Model Testing"
   ]
  },
  {
   "cell_type": "markdown",
   "id": "cba41a57",
   "metadata": {},
   "source": [
    "### Set path to testing parquet file"
   ]
  },
  {
   "cell_type": "code",
   "execution_count": null,
   "id": "25dcb861",
   "metadata": {},
   "outputs": [],
   "source": [
    "# set path to files\n",
    "\n",
    "TESTING_ERA = \"C\"\n",
    "TESTING_VERSION = 1\n",
    "TESTING_YEAR = 2025\n",
    "\n",
    "#testing_file = file #for now we just test against our training data\n",
    "testing_file = f\"/eos/user/a/alaperto/TkDQM/Devel/NMFolder/data/ZeroBias-Run{TESTING_YEAR}{TESTING_ERA}-PromptReco-v{TESTING_VERSION}-DQMIO-PixelPhase1-Phase1_MechanicalView-PXForward-clusters_per_SignedDiskCoord_per_SignedBladePanelCoord_PXRing_1.parquet\"\n",
    "testing_oms_json = f'omsdata/omsdata_Run2024{TESTING_ERA}-v{TESTING_VERSION}.json'\n",
    "testing_ring_num = int(testing_file[-9])\n",
    "testing_era = testing_file[63]"
   ]
  },
  {
   "cell_type": "markdown",
   "id": "eb94a0a1",
   "metadata": {},
   "source": [
    "### Import desired testing run and lumisections"
   ]
  },
  {
   "cell_type": "code",
   "execution_count": null,
   "id": "71431300",
   "metadata": {},
   "outputs": [],
   "source": [
    "%%time\n",
    "\n",
    "testing_run_number = 392642\n",
    "testing_lumi_start = 585\n",
    "testing_lumi_end = 585\n",
    "\n",
    "#testing_multi_lumi_data, testing_lumisections =  extract_data_2d_multi_lumis(testing_file, testing_run_number, testing_lumi_start, testing_lumi_end)\n",
    "testing_multi_lumi_data, testing_lumisections =  extract_data_2d_all_lumis(testing_file, testing_run_number, testing_oms_json)\n",
    "print(\"Testing Multi Lumi Data WITH Cross Shape: \", testing_multi_lumi_data.shape, \"\\n\")\n",
    "print(\"Extracted Lumisections: \", testing_lumisections, \"\\n\")"
   ]
  },
  {
   "cell_type": "markdown",
   "id": "6fda9dd8",
   "metadata": {},
   "source": [
    "#### Inspect Certain Testing Lumisections"
   ]
  },
  {
   "cell_type": "code",
   "execution_count": null,
   "id": "a1649e99",
   "metadata": {},
   "outputs": [],
   "source": [
    "desired_lumi = 1001\n",
    "testing_lumi_index = lumiToIndex(testing_lumisections, desired_lumi)\n",
    "\n",
    "print(\"Index of Lumisection {}: \".format(desired_lumi), testing_lumi_index)\n",
    "\n",
    "save_digis_png(testing_multi_lumi_data[testing_lumi_index], testing_run_number, desired_lumi, testing_ring_num)"
   ]
  },
  {
   "cell_type": "markdown",
   "id": "3cfcaaa1",
   "metadata": {},
   "source": [
    "## Testing Data Preprocessing\n",
    "### Remove Cross"
   ]
  },
  {
   "cell_type": "code",
   "execution_count": null,
   "id": "3f199945",
   "metadata": {},
   "outputs": [],
   "source": [
    "%%time\n",
    "testing_multi_lumi_data_no_cross = remove_cross(testing_multi_lumi_data)\n",
    "print(\"Testing Multi Lumi Data WITHOUT Cross Shape: \", testing_multi_lumi_data_no_cross.shape, \"\\n\")"
   ]
  },
  {
   "cell_type": "markdown",
   "id": "faa7466b",
   "metadata": {},
   "source": [
    "## Prediction on Testing Data"
   ]
  },
  {
   "cell_type": "code",
   "execution_count": null,
   "id": "9162be30",
   "metadata": {},
   "outputs": [],
   "source": [
    "%%time\n",
    "#predict\n",
    "print('Predicting...')\n",
    "# for layer in layers:\n",
    "mes_pred = nmf.predict(testing_multi_lumi_data_no_cross)\n",
    "print(\"Done!\")\n"
   ]
  },
  {
   "cell_type": "markdown",
   "id": "af464e53",
   "metadata": {},
   "source": [
    "# 6. <ins>Postprocessing"
   ]
  },
  {
   "cell_type": "markdown",
   "id": "3e5452d0",
   "metadata": {},
   "source": [
    "### Calculate Losses"
   ]
  },
  {
   "cell_type": "code",
   "execution_count": null,
   "id": "e2dce6c4",
   "metadata": {},
   "outputs": [],
   "source": [
    "#Calculate losses\n",
    "loss_threshold = 4e5\n",
    "losses = np.square(testing_multi_lumi_data_no_cross - mes_pred)\n",
    "losses_binary = (losses > loss_threshold).astype(int)"
   ]
  },
  {
   "cell_type": "markdown",
   "id": "8fb8e26a",
   "metadata": {},
   "source": [
    "#### Add Cross Back to Predictions, Losses, and Binary Losses"
   ]
  },
  {
   "cell_type": "code",
   "execution_count": null,
   "id": "f07425bb",
   "metadata": {},
   "outputs": [],
   "source": [
    "#Add the crosses back\n",
    "mes_pred_cross = add_cross(mes_pred)\n",
    "losses_cross = add_cross(losses)\n",
    "losses_binary_cross = add_cross(losses_binary)"
   ]
  },
  {
   "cell_type": "markdown",
   "id": "769444f8",
   "metadata": {},
   "source": [
    "### Plot Specific Data, Predictions, Losses, and Binary Losses"
   ]
  },
  {
   "cell_type": "code",
   "execution_count": null,
   "id": "520589ba",
   "metadata": {},
   "outputs": [],
   "source": [
    "%%time\n",
    "#Inspect the original data, the prediction, the loss, and the binary loss\n",
    "lumi_number = 71\n",
    "SAVEFIG = False\n",
    "SHOWFIG = True\n",
    "\n",
    "index = lumiToIndex(testing_lumisections, lumi_number)\n",
    "data = testing_multi_lumi_data[index]\n",
    "prediction = mes_pred_cross[index]\n",
    "plot_losses = losses_cross[index]\n",
    "plot_losses_binary = losses_binary_cross[index]\n",
    "\n",
    "print(\"Lumi Number: \", lumi_number)\n",
    "testingFig, testingAxes = plot_testing_plots(data, prediction, plot_losses, \n",
    "                                             plot_losses_binary, testing_run_number, lumi_number, testing_ring_num, \n",
    "                                             saveFig=SAVEFIG, showFig=SHOWFIG)\n",
    "\n",
    "plt.show()"
   ]
  },
  {
   "cell_type": "markdown",
   "id": "be29b336",
   "metadata": {},
   "source": [
    "# 7. <u>Anomaly Detection"
   ]
  },
  {
   "cell_type": "markdown",
   "id": "e1aa9ac0",
   "metadata": {},
   "source": [
    "## Analyze Each Lumisection for Anomalies"
   ]
  },
  {
   "cell_type": "code",
   "execution_count": null,
   "id": "c115613c",
   "metadata": {},
   "outputs": [],
   "source": [
    "%%time\n",
    "\n",
    "testingtime = False\n",
    "verbose = False\n",
    "\n",
    "#Flag a lumisection if more than anomaly_cutoff percentage of bins are on\n",
    "anomaly_cutoff = .5\n",
    "\n",
    "#Currently a list of anomalous lumisections and their powergroups\n",
    "anomalous_lumisections = []\n",
    "anomalous_powergroups = []\n",
    "\n",
    "for index, lumisection in enumerate(testing_lumisections):\n",
    "    if verbose: print(f\"Index: {index} \\t Lumisection: {lumisection}\")\n",
    "        \n",
    "    for j, powergroup in enumerate(optimized_powerGroupStringsList):\n",
    "        #if not testingtime: print(f\"Power Group String: {powergroup}\")\n",
    "        powerGroupSlice, diskSlice = powerGroupToIndex(powergroup)\n",
    "        \n",
    "        #Access each power group in each lumisection and see if more than 50% of the bins are on\n",
    "        #A bit ugly, but this was the fastest way I found. Saved about .1 seconds over saving the powergroup data to another variable. \n",
    "        if int(np.sum(losses_binary_cross[index, powerGroupSlice, diskSlice].flatten())) >= int(anomaly_cutoff * losses_binary_cross[index, powerGroupSlice, diskSlice].flatten().size):\n",
    "            if verbose: print(f\"Anomalous Power Group: {powergroup} \\t in Lumisection: {lumisection} \\t with Binary Sum: {np.sum(powerGroup_data)}\")\n",
    "            anomalous_lumisections.append(lumisection)\n",
    "            anomalous_powergroups.append(powergroup)\n",
    "            \n",
    "            if verbose: save_digis_png(losses_binary_cross[index], testing_ring_num, lumisection, 1)\n",
    "                \n",
    "print(f\"There Were {len(anomalous_lumisections)} Anomalous Lumisections Found in Run {testing_run_number}!\")\n",
    "print(f\"The Anomalous Lumisections are\\n{np.unique(anomalous_lumisections)}\")"
   ]
  },
  {
   "cell_type": "markdown",
   "id": "f77b2304",
   "metadata": {},
   "source": [
    "## Plot Each Anomalous Lumisection"
   ]
  },
  {
   "cell_type": "code",
   "execution_count": null,
   "id": "5503544a",
   "metadata": {
    "scrolled": true
   },
   "outputs": [],
   "source": [
    "%%time\n",
    "\n",
    "doPlotting = True\n",
    "saveFigs = False\n",
    "showFigs = True\n",
    "verbose = True\n",
    "\n",
    "#Inspect the original data, the prediction, the loss, and the binary loss\n",
    "print(f\"There are {len(np.unique(anomalous_lumisections))} anomalous lumisections! \\nAll Anomalous Lumisections:\\n{np.unique(anomalous_lumisections)}\")\n",
    "#print(f\"The anomalous powergroups are:\\n{anomalous_powergroups}\\n\")\n",
    "for i, lumisection in enumerate(np.unique(anomalous_lumisections)):\n",
    "\n",
    "    index = lumiToIndex(testing_lumisections, lumisection)\n",
    "    data = testing_multi_lumi_data[index]\n",
    "    prediction = mes_pred_cross[index]\n",
    "    plot_losses = losses_cross[index]\n",
    "    plot_losses_binary = losses_binary_cross[index]\n",
    "\n",
    "    if verbose: print(f\"Anomalous Power Group: {anomalous_powergroups[i]} \\t in Lumisection: {lumisection}\")\n",
    "    if doPlotting:\n",
    "        testingFig, testingAxes = plot_testing_plots(data, prediction, plot_losses, plot_losses_binary, testing_run_number, lumisection, testing_ring_num, \n",
    "                                                     saveFig=saveFigs, showFig=showFigs)\n",
    "        plt.show()"
   ]
  },
  {
   "cell_type": "markdown",
   "id": "4c9970fb",
   "metadata": {},
   "source": [
    "## Identify Anomaly Types\n",
    "This section will identify runs in lumisections that stay the same then compare the powergroups and see if there are any multi-disk anomalies. \n",
    "\n",
    "If there are no repeating lumisections, then it is just a single disk anomaly. "
   ]
  },
  {
   "cell_type": "markdown",
   "id": "7be39938",
   "metadata": {},
   "source": [
    "## Create a file summarizing all lumisections and their anomalies\n",
    "### Run_Number    Lumisection    PRT    Disk    Ring_Num    Anomaly_Type"
   ]
  },
  {
   "cell_type": "code",
   "execution_count": null,
   "id": "7bf571fa",
   "metadata": {},
   "outputs": [],
   "source": [
    "#Identify multi disk anomalies\n",
    "import itertools\n",
    "#Create a multi-disk anomaly for testing. \n",
    "# anomalous_lumisections = [41, 41, 41, 482, 483, 484, 1436, 1437, 1438, 1439, 1440, 1610, 1611, 1612]\n",
    "# anomalous_powergroups = ['FPix_BmO_D1_PRT1', 'FPix_BpO_D2_PRT1', 'FPix_BmO_D3_PRT1', 'FPix_BpO_D3_PRT1', 'FPix_BpO_D3_PRT1', 'FPix_BpO_D3_PRT1', 'FPix_BmI_D2_PRT3', 'FPix_BmI_D2_PRT3', 'FPix_BmI_D2_PRT3', 'FPix_BmI_D2_PRT3', 'FPix_BmI_D2_PRT3', 'FPix_BmI_D3_PRT1', 'FPix_BmI_D3_PRT1', 'FPix_BmI_D3_PRT1']\n",
    "\n",
    "#Find the difference between all of the anomalous lumisections\n",
    "difference = np.diff(anomalous_lumisections)\n",
    "#print(difference)\n",
    "\n",
    "#Create dataframe of anomalous lumisections and powergroups\n",
    "anomaly_df = pd.DataFrame({\"lumisections\": anomalous_lumisections, \"powergroups\": anomalous_powergroups})\n",
    "\n",
    "print(\"Anomaly Dataframe: \\n\", anomaly_df, '\\n')\n",
    "\n",
    "#Create unique arrays to pare down duplicate data\n",
    "anomalous_lumisections_unique = np.unique(anomalous_lumisections)\n",
    "\n",
    "\n",
    "#Create a list of dictionaries for easier saving to text\n",
    "headers = [\"Run_Number\", \"Lumisection\", \"Powergroup\", \"Disk\", \"Ring_Num\", \"Anomaly_Type\"]\n",
    "dictList = np.empty_like(anomalous_lumisections_unique, dtype=dict)\n",
    "\n",
    "detailed_anomaly_df = pd.DataFrame(columns=headers)\n",
    "\n",
    "# print(\"AHHHHHHH\\n\", detailed_anomaly_df)\n",
    "print('-----------------------------------------')\n",
    "#Loop over each unique lumisection\n",
    "for index, lumisection in enumerate(anomalous_lumisections_unique):\n",
    "    #These values are the same for single/multi disk anomalies\n",
    "    dataDict = dict.fromkeys(headers)\n",
    "    dataDict[\"Run_Number\"] = testing_run_number\n",
    "    dataDict[\"Lumisection\"] = lumisection\n",
    "    dataDict[\"Ring_Num\"] = ring_num\n",
    "    \n",
    "    #Get the lumisection and all of the anomaly powergroups\n",
    "    #If there is only one powergroup, mark it Single Disk, preparing the detailed Pandas anomaly dataframe, then move on\n",
    "    #If there is multiple powergroups, iterate through each pair, breaking on the first Multi-disk anomaly after preparing the detailed Pandas anomaly dataframe\n",
    "    #If there is no Multi-disk anomaly despite there being multiple anomalies in one lumisection, prepare the detailed Pandas anomaly dataframe with EACH anomaly\n",
    "    \n",
    "    \n",
    "    dataframe = anomaly_df[anomaly_df[\"lumisections\"] == lumisection]\n",
    "    print(dataframe, '\\n')\n",
    "    powergroups = dataframe[\"powergroups\"].to_list()\n",
    "    print(f\"Powergroups: {powergroups}\")\n",
    "    \n",
    "    #If there are 12 anomalous powergroups in one lumisection, check if it's a whole quarter out\n",
    "    if len(powergroups) == 12:\n",
    "        for quarter in QUARTERS:\n",
    "            #If all of the powergroups are in one quarter, then we can save and break early\n",
    "            if np.all(np.isin(powergroups, quarter)):\n",
    "                #Fill in the data dict\n",
    "                m_or_p, I_or_O, disk_number, part_number = analyzePowerGroupString(powergroups[0])\n",
    "                dataDict[\"Powergroup\"] = ':'.join(powergroups) #Make a string of each powergroup separated by colons. A char not typically used in csv's. \n",
    "                dataDict[\"Disk\"] = \"-1:-2:-3\" if disk_number < 0 else \"1:2:3\"\n",
    "                dataDict[\"Anomaly_Type\"] = \"Whole Quarter\"\n",
    "                dataFrame = pd.Series(dataDict).to_frame().T\n",
    "                #print(dataFrame)\n",
    "                detailed_anomaly_df = pd.concat([detailed_anomaly_df, dataFrame])\n",
    "                #break out of this for loop for the quarters\n",
    "                break\n",
    "        #then continue to the next unique anomaly\n",
    "        continue\n",
    "    \n",
    "    #If there is only one powergroup, mark it as a Single disk anomaly\n",
    "    if len(powergroups) == 1:\n",
    "        #Fill in the data dict\n",
    "        m_or_p, I_or_O, disk_number, part_number = analyzePowerGroupString(powergroups[0])\n",
    "        dataDict[\"Powergroup\"] = powergroups[0]\n",
    "        dataDict[\"Disk\"] = disk_number\n",
    "        dataDict[\"Anomaly_Type\"] = \"Single Disk\"\n",
    "        #Convert the data dict to a pandas dataframe and concat it to the detailed data frame \n",
    "        #(NOTE: If there are many lumisections, it is technically more effificient to create a list of these dataDicts and concat those all at once)\n",
    "        print(\"DATA DICT:\", dataDict)\n",
    "        dataFrame = pd.Series(dataDict).to_frame().T\n",
    "        #print(dataFrame)\n",
    "        detailed_anomaly_df = pd.concat([detailed_anomaly_df, dataFrame])\n",
    "        #continue to the next loop\n",
    "        continue\n",
    "    \n",
    "    #If there is more than one anomalous powergroup in that lumisection and it's NOT the whole quarter out\n",
    "    all_powergroup_combos = itertools.combinations(powergroups, 2)\n",
    "    #Loop over all pairs of powergroups and search for multi-disk anomalies\n",
    "    dataDictList = [] #Create a list to store all of the possible Single Disk anomalies in case there are multiple anomalies but no Multi Disk anomaly\n",
    "    for powergroup_combo in all_powergroup_combos:\n",
    "        #print(\"ADFJNDKFN\", powergroup_combo)\n",
    "        anomaly_type = powerGroupsToAnomalyType(powergroup_combo[0], powergroup_combo[1])\n",
    "        #Extract relevant information\n",
    "        m_or_p_one, I_or_O_one, disk_number_one, part_number_one = analyzePowerGroupString(powergroup_combo[0])\n",
    "        m_or_p_two, I_or_O_two, disk_number_two, part_number_two = analyzePowerGroupString(powergroup_combo[1])\n",
    "        if anomaly_type == \"Multi Disk\":\n",
    "            #Fill in the data dict\n",
    "            dataDict[\"Powergroup\"] = powergroup_combo[0] + ':' + powergroup_combo[1]\n",
    "            dataDict[\"Disk\"] = str(disk_number_one) + ':' + str(disk_number_two)\n",
    "            dataDict[\"Anomaly_Type\"] = \"Multi Disk\"\n",
    "            #Convert the data dict to a pandas dataframe and concat it to the detailed data frame \n",
    "            #(NOTE: If there are many lumisections, it is technically more effificient to create a list of these dataDicts and concat those all at once)\n",
    "            print(\"DATA DICT:\", dataDict)\n",
    "            dataFrame = pd.Series(dataDict).to_frame().T\n",
    "            #print(dataFrame)\n",
    "            detailed_anomaly_df = pd.concat([detailed_anomaly_df, dataFrame])\n",
    "            #break\n",
    "        else:\n",
    "            #Fill in a data dict for each anomaly\n",
    "            dataDict[\"Powergroup\"] = powergroup_combo[0]\n",
    "            dataDict[\"Disk\"] = str(disk_number_one)\n",
    "            dataDict[\"Anomaly_Type\"] = \"Single Disk\"\n",
    "            #Convert the data dict to a pandas dataframe and concat it to the detailed data frame \n",
    "            #(NOTE: If there are many lumisections, it is technically more effificient to create a list of these dataDicts and concat those all at once)\n",
    "            print(\"DATA DICT ONE:\", dataDict)\n",
    "            dataFrame = pd.Series(dataDict).to_frame().T\n",
    "            print(dataFrame)\n",
    "            detailed_anomaly_df = pd.concat([detailed_anomaly_df, dataFrame])\n",
    "            \n",
    "            #Fill in second data dict\n",
    "            dataDict[\"Powergroup\"] = powergroup_combo[1]\n",
    "            dataDict[\"Disk\"] = str(disk_number_two)\n",
    "            dataDict[\"Anomaly_Type\"] = \"Single Disk\"\n",
    "            #Convert the data dict to a pandas dataframe and concat it to the detailed data frame \n",
    "            #(NOTE: If there are many lumisections, it is technically more effificient to create a list of these dataDicts and concat those all at once)\n",
    "            print(\"DATA DICT TWO:\", dataDict)\n",
    "            dataFrame = pd.Series(dataDict).to_frame().T\n",
    "            #print(dataFrame)\n",
    "            detailed_anomaly_df = pd.concat([detailed_anomaly_df, dataFrame])\n",
    "        print('----------------------------------------')\n",
    "    print('-----------------------------------------')\n",
    "\n",
    "#Remove all exact duplicate rows\n",
    "detailed_anomaly_df = detailed_anomaly_df.drop_duplicates()\n",
    "print()\n",
    "print()\n",
    "print(detailed_anomaly_df)\n",
    "detailed_anomaly_df.to_excel(f\"Anomaly Excel Files/Era_{TESTING_YEAR}{TESTING_ERA}_Run_{run_number}_Anomalies_Raw.xlsx\", index=False, engine='openpyxl')"
   ]
  },
  {
   "cell_type": "code",
   "execution_count": null,
   "id": "21da9e43",
   "metadata": {},
   "outputs": [],
   "source": [
    "# Identify and condense runs of consecutive lumisections for each powergroup\n",
    "condensed_df = condense_lumisection_runs(detailed_anomaly_df)\n",
    "print(\"Condensed consecutive lumisection runs per powergroup:\")\n",
    "condensed_df = condensed_df.sort_values(by='Start_LS')\n",
    "print(condensed_df)\n",
    "# Save the condensed DataFrame to an excel file\n",
    "condensed_df.to_excel(\"Anomaly Excel Files/condensed_anomalies.xlsx\", index=False, engine='openpyxl')\n",
    "print(\"DONE!\")"
   ]
  },
  {
   "cell_type": "code",
   "execution_count": null,
   "id": "f4f3ca34",
   "metadata": {
    "scrolled": false
   },
   "outputs": [],
   "source": [
    "# Identify and condense overlaping powergroups for each lumisection\n",
    "condensed_df_again = condense_powergroup_overlap(condensed_df, verbose=True)\n",
    "print(\"Condensed consecutive lumisection runs per Anomaly Type:\")\n",
    "condensed_df_again = condensed_df_again.sort_values(by='Start_LS')\n",
    "condensed_df_again.to_excel(f\"Anomaly Excel Files/Era_{TESTING_YEAR}{TESTING_ERA}_Run_{run_number}_Anomalies.xlsx\", index=False, engine='openpyxl')\n",
    "print(\"DONE!\")"
   ]
  },
  {
   "cell_type": "markdown",
   "id": "e6c2ef9b",
   "metadata": {},
   "source": [
    "### Plot All Losses, All Losses Zoomed In, Loss of Selected Lumi, "
   ]
  },
  {
   "cell_type": "code",
   "execution_count": null,
   "id": "f02d0a12",
   "metadata": {},
   "outputs": [],
   "source": [
    "%%time\n",
    "\n",
    "#Checking the distribution of the losses\n",
    "print(\"Losses WITHOUT Cross Shape: \", losses.shape)\n",
    "lossesFlat = losses.flatten()\n",
    "print(\"Losses WITHOUT Cross Flattened\", lossesFlat.shape, '\\n')\n",
    "\n",
    "fig, axes = plt.subplots(1, 3, figsize=(21, 7))\n",
    "\n",
    "FONTSIZE = 18\n",
    "\n",
    "#Plot all losses of all lumis flattened down\n",
    "axes[0].hist(lossesFlat, bins=1000)\n",
    "axes[0].set_xlabel(\"Mean Squared Loss\")\n",
    "axes[0].semilogy()\n",
    "axes[0].set_title(\"ALL Losses\", fontsize=FONTSIZE)\n",
    "#axes[0].semilogx()\n",
    "\n",
    "#------------------------------------Plot all losses of all lumis, but within a select range ------------------------\n",
    "rangeEnd = 1e7\n",
    "\n",
    "axes[1].hist(lossesFlat, bins=900, range=(0, rangeEnd))\n",
    "axes[1].set_xlabel(\"Mean Squared Loss\")\n",
    "axes[1].semilogy()\n",
    "axes[1].set_title(f\"ALL Losses from 0-{rangeEnd}\", fontsize=FONTSIZE)\n",
    "\n",
    "print(\"MAX Loss of all Lumis: \", max(lossesFlat), '\\n')\n",
    "#------------------------------------Plot all losses of a specific lumi, but within a select range ------------------------\n",
    "lumi_check_loss = lumi_number\n",
    "\n",
    "rangeEnd2 = 40000\n",
    "\n",
    "index_check_loss = lumiToIndex(lumisections, lumi_check_loss)\n",
    "loss_check = losses[index].flatten()\n",
    "print(\"Inividual Loss WITHOUT Cross Shape: \", loss_check.shape)\n",
    "\n",
    "#Plot loss hist of individual lumi\n",
    "maximumLoss = np.max(loss_check)\n",
    "avgLoss = np.average(loss_check)\n",
    "stdDevLoss = np.std(loss_check)\n",
    "print(\"Lumi: {} \\t Max Loss: {} \\t Avg. Loss: {} \\t Std. Dev: {}\" .format(lumi_check_loss, maximumLoss, avgLoss, stdDevLoss))\n",
    "axes[2].hist(loss_check, bins=1000, histtype='barstacked', range=(0, rangeEnd2))\n",
    "\n",
    "axes[2].set_title(f\"Losses of Lumisection {lumi_check_loss}\", fontsize=FONTSIZE)\n",
    "axes[2].semilogy()\n",
    "axes[2].set_xlabel(\"Mean Squared Loss\")\n",
    "\n",
    "print(\"Done!\")\n",
    "fig.suptitle(\"Model Losses\", fontsize=FONTSIZE+4)\n",
    "fig.tight_layout()\n",
    "plt.show()\n",
    "#Show the above figure here again just for easier viewing\n",
    "plt.figure(testingFig)\n",
    "plt.show()"
   ]
  },
  {
   "cell_type": "code",
   "execution_count": null,
   "id": "492d1699",
   "metadata": {},
   "outputs": [],
   "source": []
  }
 ],
 "metadata": {
  "@webio": {
   "lastCommId": null,
   "lastKernelId": null
  },
  "kernelspec": {
   "display_name": "Python 3",
   "language": "python",
   "name": "python3"
  },
  "language_info": {
   "codemirror_mode": {
    "name": "ipython",
    "version": 3
   },
   "file_extension": ".py",
   "mimetype": "text/x-python",
   "name": "python",
   "nbconvert_exporter": "python",
   "pygments_lexer": "ipython3",
   "version": "3.11.9"
  },
  "widgets": {
   "application/vnd.jupyter.widget-state+json": {
    "state": {},
    "version_major": 2,
    "version_minor": 0
   }
  }
 },
 "nbformat": 4,
 "nbformat_minor": 5
}
